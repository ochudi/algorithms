{
 "cells": [
  {
   "attachments": {},
   "cell_type": "markdown",
   "metadata": {},
   "source": [
    "# In class Exercise\n",
    "\n",
    "Time complexity to consider – 0(n)\n",
    "\n",
    "Given an encoded string, return its decoded string.\n",
    "\n",
    "The encoding rule is: k[encoded_string], where the encoded_string inside the square brackets is repeated\n",
    "exactly k times. Note that k is guaranteed to be a positive integer.\n",
    "\n",
    "You may assume that the input string is always valid; there are no extra white spaces, square brackets are\n",
    "well-formed, etc. Furthermore, you may assume that the original data does not contain any digits and\n",
    "that digits are only for those repeat numbers, k. For example, there will not be input like 3a or 2[4].\n",
    "\n",
    "Constraints:\n",
    "\n",
    "1. 1 <= s.length <= 30\n",
    "2. s consists of lowercase English letters, digits, and square brackets '[]'.\n",
    "3. s is guaranteed to be a valid input.\n",
    "4. All the integers in s are in the range [1, 300].\n",
    "\n",
    "Example 1:\n",
    "Input: s = \"3[a]2[bc]\"\n",
    "Output: \"aaabcbc\"\n",
    "\n",
    "Example 2:\n",
    "Input: s = \"3[a2[c]]\"\n",
    "Output: \"accaccacc\"\n",
    "\n",
    "Example 3:\n",
    "Input: s = \"2[abc]3[cd]ef\"\n",
    "Output: \"abcabccdcdcdef\"\n",
    "\n",
    "Example 4:\n",
    "Input: s = \"100[leetcode]\"\n",
    "Output:\n",
    "\"leetcodeleetcodeleetcodeleetcodeleetcodeleetcodeleetcodeleetcodeleetcodeleetcodeleetcodeleetc\n",
    "odeleetcodeleetcodeleetcodeleetcodeleetcodeleetcodeleetcodeleetcodeleetcodeleetcodeleetcodele\n",
    "etcodeleetcodeleetcodeleetcodeleetcodeleetcodeleetcodeleetcodeleetcodeleetcodeleetcodeleetcod\n",
    "eleetcodeleetcodeleetcodeleetcodeleetcodeleetcodeleetcodeleetcodeleetcodeleetcodeleetcodeleetc\n",
    "odeleetcodeleetcodeleetcodeleetcodeleetcodeleetcodeleetcodeleetcodeleetcodeleetcodeleetcodele\n",
    "etcodeleetcodeleetcodeleetcodeleetcodeleetcodeleetcodeleetcodeleetcodeleetcodeleetcodeleetcod\n",
    "eleetcodeleetcodeleetcodeleetcodeleetcodeleetcodeleetcodeleetcodeleetcodeleetcodeleetcodeleetc\n",
    "odeleetcodeleetcodeleetcodeleetcodeleetcodeleetcodeleetcodeleetcodeleetcodeleetcodeleetcodele\n",
    "etcodeleetcodeleetcodeleetcodeleetcodeleetcodeleetcode\"\n"
   ]
  },
  {
   "cell_type": "code",
   "execution_count": null,
   "metadata": {},
   "outputs": [],
   "source": [
    "# Attempt\n",
    "\n",
    "def decode_string(string):\n",
    "\n",
    "    def number_checker(letter):\n",
    "        try:\n",
    "            if type(int(letter)) == int:\n",
    "                return True\n",
    "        except:\n",
    "            return False\n",
    "\n",
    "    my_list = []\n",
    "    index = 0\n",
    "    for letter in string:\n",
    "        my_list.append(letter)\n",
    "    print(my_list)\n",
    "    if string[0] == '[':\n",
    "        return \"\"\n",
    "\n",
    "    string_length = len(string)\n",
    "    try:\n",
    "        for index in range(0, string_length):\n",
    "            listed_list = []\n",
    "            number = int(string[index])\n",
    "            if string[index + 1] == \"[\":\n",
    "                printed_list = []\n",
    "                for index in range((index + 2), string_length):\n",
    "                    if string[index] == \"]\":\n",
    "                        break\n",
    "                    else:\n",
    "                        printed_list.append(string[index])\n",
    "                        print(string[index] * number)\n",
    "\n",
    "    except:\n",
    "        print(\"Just ingnored string in index\", index)\n",
    "\n",
    "\n",
    "test_string = \"3[a]2[bc]\"\n",
    "test_case = \"[]\"\n",
    "decode_string(test_string)\n"
   ]
  },
  {
   "cell_type": "code",
   "execution_count": 87,
   "metadata": {},
   "outputs": [
    {
     "name": "stdout",
     "output_type": "stream",
     "text": [
      "int list:  [1, 0, 0]\n",
      "parenthesis_list:  ['[', ']']\n",
      "string_together_list:  ['leetcode']\n"
     ]
    }
   ],
   "source": [
    "# Attempt\n",
    "\n",
    "def decode_string(string):\n",
    "    if string[0] == '[':\n",
    "        return \"\"\n",
    "\n",
    "    int_list = []\n",
    "    parenthesis_list = []\n",
    "    string_together_list = []\n",
    "    index = 0\n",
    "    inner_index = 0\n",
    "\n",
    "    for index in range(0, len(string)):\n",
    "        letter = string[index]\n",
    "        if inner_index > index:\n",
    "            index = inner_index\n",
    "        if letter.isnumeric():\n",
    "            int_list.append(int(letter))\n",
    "        elif (letter == \"[\" or letter == \"]\"):\n",
    "            parenthesis_list.append(letter)\n",
    "        else:\n",
    "            string_together = \"\"\n",
    "            string_list = []\n",
    "            for inner_index in range(index, len(string)):\n",
    "                if (string[inner_index] == \"]\" or string[inner_index] == \"[\") or (string[inner_index].isnumeric()):\n",
    "                    break\n",
    "                string_list.append(string[inner_index])\n",
    "            string_together = \"\".join(string_list)\n",
    "            if string_together != \"\" and string_together != string[len(string) - 1]:\n",
    "                string_together_list.append(string_together)\n",
    "\n",
    "    print(\"int list: \", int_list)\n",
    "    print(\"parenthesis_list: \", parenthesis_list)\n",
    "    print(\"string_together_list: \", string_together_list)\n",
    "\n",
    "\n",
    "test_case0 = \"[]\"\n",
    "test_case1 = \"3[a]2[bc]\"\n",
    "test_case2 = \"3[a2[c]]\"\n",
    "test_case3 = \"2[abc]3[cd]efg\"\n",
    "test_case4 = \"100[leetcode]\"\n",
    "decode_string(test_case4)\n"
   ]
  },
  {
   "cell_type": "code",
   "execution_count": 45,
   "metadata": {},
   "outputs": [
    {
     "data": {
      "text/plain": [
       "True"
      ]
     },
     "execution_count": 45,
     "metadata": {},
     "output_type": "execute_result"
    }
   ],
   "source": [
    "def number_checker(letter):\n",
    "    try:\n",
    "        if type(int(letter)) == int:\n",
    "            return True\n",
    "    except:\n",
    "        return False\n",
    "\n",
    "\n",
    "chudi = \"21\"\n",
    "number_checker(chudi)\n"
   ]
  },
  {
   "cell_type": "code",
   "execution_count": 41,
   "metadata": {},
   "outputs": [
    {
     "name": "stdout",
     "output_type": "stream",
     "text": [
      "Index  0  is a string.\n",
      "Index  1  is a string.\n",
      "Index  2  is a string.\n",
      "Index  3  is a string.\n",
      "Index  4  is a string.\n",
      "Index  5  is an integer.\n",
      "Index  6  is an integer.\n",
      "Index  7  is an integer.\n",
      "Index  8  is an integer.\n",
      "Index  9  is a string.\n",
      "Index  10  is a string.\n",
      "Index  11  is a string.\n"
     ]
    }
   ],
   "source": [
    "def number_checker(string):\n",
    "    for index in range(0, len(string)):\n",
    "        try:\n",
    "            if type(int(string[index])) == int:\n",
    "                print(\"Index \", index, \" is an integer.\")\n",
    "        except:\n",
    "            print(\"Index \", index, \" is a string.\")\n",
    "\n",
    "\n",
    "number_checker(\"chudi1234asd\")\n"
   ]
  },
  {
   "cell_type": "code",
   "execution_count": 54,
   "metadata": {},
   "outputs": [
    {
     "name": "stdout",
     "output_type": "stream",
     "text": [
      "banned\n"
     ]
    }
   ],
   "source": [
    "chudi = \"\"\n",
    "a = [\"b\", \"a\", \"n\", \"n\", \"e\", \"d\"]\n",
    "\n",
    "chudi = \"\".join(a)\n",
    "\n",
    "print(chudi)\n"
   ]
  },
  {
   "cell_type": "code",
   "execution_count": 57,
   "metadata": {},
   "outputs": [
    {
     "name": "stdout",
     "output_type": "stream",
     "text": [
      "0\n",
      "1\n",
      "2\n",
      "3\n"
     ]
    }
   ],
   "source": [
    "for index in range(0, 21):\n",
    "    if index == 4:\n",
    "        break\n",
    "    print(index)\n"
   ]
  },
  {
   "cell_type": "code",
   "execution_count": 61,
   "metadata": {},
   "outputs": [
    {
     "ename": "TypeError",
     "evalue": "'str' object does not support item assignment",
     "output_type": "error",
     "traceback": [
      "\u001b[0;31m---------------------------------------------------------------------------\u001b[0m",
      "\u001b[0;31mTypeError\u001b[0m                                 Traceback (most recent call last)",
      "Cell \u001b[0;32mIn[61], line 3\u001b[0m\n\u001b[1;32m      1\u001b[0m a \u001b[39m=\u001b[39m \u001b[39m\"\u001b[39m\u001b[39mchudi\u001b[39m\u001b[39m\"\u001b[39m\n\u001b[0;32m----> 3\u001b[0m a[\u001b[39m3\u001b[39;49m] \u001b[39m=\u001b[39m \u001b[39m\"\u001b[39m\u001b[39m\"\u001b[39m\n\u001b[1;32m      4\u001b[0m \u001b[39mprint\u001b[39m(a)\n",
      "\u001b[0;31mTypeError\u001b[0m: 'str' object does not support item assignment"
     ]
    }
   ],
   "source": [
    "a = \"chudi\"\n",
    "\n",
    "a[3] = \"\"\n",
    "print(a)\n"
   ]
  },
  {
   "cell_type": "code",
   "execution_count": 64,
   "metadata": {},
   "outputs": [
    {
     "name": "stdout",
     "output_type": "stream",
     "text": [
      "chudi\n",
      "chudi\n",
      "chudi\n",
      "chudi\n",
      "chudi\n",
      "4\n"
     ]
    }
   ],
   "source": [
    "index = 0\n",
    "\n",
    "for index in range(0, 5):\n",
    "    print(\"chudi\")\n",
    "\n",
    "print(index)\n"
   ]
  },
  {
   "cell_type": "code",
   "execution_count": 5,
   "metadata": {},
   "outputs": [
    {
     "data": {
      "text/plain": [
       "'bwvwvakbkbbwvwvakbkb'"
      ]
     },
     "execution_count": 5,
     "metadata": {},
     "output_type": "execute_result"
    }
   ],
   "source": [
    "# Kazeem's Attempt\n",
    "\n",
    "def decodeString(s):\n",
    "    stack = []\n",
    "    \n",
    "    for e in s:\n",
    "        if (e != \"]\"):\n",
    "            stack.append(e)\n",
    "\n",
    "        else:\n",
    "            st = \"\"\n",
    "            while (stack[-1] != \"[\"):\n",
    "                st = stack.pop() + st\n",
    "            stack.pop()\n",
    "\n",
    "            intt = \"\"\n",
    "            while (stack and stack[-1].isdigit()):\n",
    "                intt = stack.pop() + intt\n",
    "\n",
    "            stack.append(int(intt) * st)\n",
    "\n",
    "    return \"\".join(stack)\n",
    "\n",
    "\n",
    "#s = \"2[abc]3[cd]ef\"\n",
    "# s = \"3[a2[c]]\"\n",
    "# s = \"3[a]2[bc]\"\n",
    "s = \"2[b2[wv]a2[kb]]\"\n",
    "\n",
    "decodeString(s)\n"
   ]
  },
  {
   "cell_type": "code",
   "execution_count": null,
   "metadata": {},
   "outputs": [],
   "source": []
  }
 ],
 "metadata": {
  "kernelspec": {
   "display_name": "Python 3",
   "language": "python",
   "name": "python3"
  },
  "language_info": {
   "codemirror_mode": {
    "name": "ipython",
    "version": 3
   },
   "file_extension": ".py",
   "mimetype": "text/x-python",
   "name": "python",
   "nbconvert_exporter": "python",
   "pygments_lexer": "ipython3",
   "version": "3.11.0 (v3.11.0:deaf509e8f, Oct 24 2022, 14:43:23) [Clang 13.0.0 (clang-1300.0.29.30)]"
  },
  "orig_nbformat": 4,
  "vscode": {
   "interpreter": {
    "hash": "aee8b7b246df8f9039afb4144a1f6fd8d2ca17a180786b69acc140d282b71a49"
   }
  }
 },
 "nbformat": 4,
 "nbformat_minor": 2
}
