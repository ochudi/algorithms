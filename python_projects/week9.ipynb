{
 "cells": [
  {
   "attachments": {},
   "cell_type": "markdown",
   "metadata": {},
   "source": [
    "# In class Exercise\n",
    "\n",
    "Time complexity to consider – 0(n)\n",
    "\n",
    "Given an encoded string, return its decoded string.\n",
    "\n",
    "The encoding rule is: k[encoded_string], where the encoded_string inside the square brackets is repeated\n",
    "exactly k times. Note that k is guaranteed to be a positive integer.\n",
    "\n",
    "You may assume that the input string is always valid; there are no extra white spaces, square brackets are\n",
    "well-formed, etc. Furthermore, you may assume that the original data does not contain any digits and\n",
    "that digits are only for those repeat numbers, k. For example, there will not be input like 3a or 2[4].\n",
    "\n",
    "Constraints:\n",
    "\n",
    "1. 1 <= s.length <= 30\n",
    "2. s consists of lowercase English letters, digits, and square brackets '[]'.\n",
    "3. s is guaranteed to be a valid input.\n",
    "4. All the integers in s are in the range [1, 300].\n",
    "\n",
    "Example 1:\n",
    "Input: s = \"3[a]2[bc]\"\n",
    "Output: \"aaabcbc\"\n",
    "\n",
    "Example 2:\n",
    "Input: s = \"3[a2[c]]\"\n",
    "Output: \"accaccacc\"\n",
    "\n",
    "Example 3:\n",
    "Input: s = \"2[abc]3[cd]ef\"\n",
    "Output: \"abcabccdcdcdef\"\n",
    "\n",
    "Example 4:\n",
    "Input: s = \"100[leetcode]\"\n",
    "Output:\n",
    "\"leetcodeleetcodeleetcodeleetcodeleetcodeleetcodeleetcodeleetcodeleetcodeleetcodeleetcodeleetc\n",
    "odeleetcodeleetcodeleetcodeleetcodeleetcodeleetcodeleetcodeleetcodeleetcodeleetcodeleetcodele\n",
    "etcodeleetcodeleetcodeleetcodeleetcodeleetcodeleetcodeleetcodeleetcodeleetcodeleetcodeleetcod\n",
    "eleetcodeleetcodeleetcodeleetcodeleetcodeleetcodeleetcodeleetcodeleetcodeleetcodeleetcodeleetc\n",
    "odeleetcodeleetcodeleetcodeleetcodeleetcodeleetcodeleetcodeleetcodeleetcodeleetcodeleetcodele\n",
    "etcodeleetcodeleetcodeleetcodeleetcodeleetcodeleetcodeleetcodeleetcodeleetcodeleetcodeleetcod\n",
    "eleetcodeleetcodeleetcodeleetcodeleetcodeleetcodeleetcodeleetcodeleetcodeleetcodeleetcodeleetc\n",
    "odeleetcodeleetcodeleetcodeleetcodeleetcodeleetcodeleetcodeleetcodeleetcodeleetcodeleetcodele\n",
    "etcodeleetcodeleetcodeleetcodeleetcodeleetcodeleetcode\"\n"
   ]
  },
  {
   "cell_type": "code",
   "execution_count": null,
   "metadata": {},
   "outputs": [],
   "source": [
    "# Attempt\n",
    "\n",
    "def decode_string(string):\n",
    "\n",
    "    def number_checker(letter):\n",
    "        try:\n",
    "            if type(int(letter)) == int:\n",
    "                return True\n",
    "        except:\n",
    "            return False\n",
    "\n",
    "    my_list = []\n",
    "    index = 0\n",
    "    for letter in string:\n",
    "        my_list.append(letter)\n",
    "    print(my_list)\n",
    "    if string[0] == '[':\n",
    "        return \"\"\n",
    "\n",
    "    string_length = len(string)\n",
    "    try:\n",
    "        for index in range(0, string_length):\n",
    "            listed_list = []\n",
    "            number = int(string[index])\n",
    "            if string[index + 1] == \"[\":\n",
    "                printed_list = []\n",
    "                for index in range((index + 2), string_length):\n",
    "                    if string[index] == \"]\":\n",
    "                        break\n",
    "                    else:\n",
    "                        printed_list.append(string[index])\n",
    "                        print(string[index] * number)\n",
    "\n",
    "    except:\n",
    "        print(\"Just ingnored string in index\", index)\n",
    "\n",
    "\n",
    "test_string = \"3[a]2[bc]\"\n",
    "test_case = \"[]\"\n",
    "decode_string(test_string)\n"
   ]
  },
  {
   "cell_type": "code",
   "execution_count": 51,
   "metadata": {},
   "outputs": [
    {
     "name": "stdout",
     "output_type": "stream",
     "text": [
      "[3, 2]\n",
      "['[', ']', '[', ']']\n",
      "['a', 'b', 'c']\n",
      "[3, 2]\n"
     ]
    }
   ],
   "source": [
    "# Attempt\n",
    "\n",
    "def decode_string(string):\n",
    "    if string[0] == '[':\n",
    "        return \"\"\n",
    "\n",
    "    int_list = []\n",
    "    parenthesis_list = []\n",
    "    string_list = []\n",
    "    for letter in string:\n",
    "        if letter.isnumeric():\n",
    "            int_list.append(int(letter))\n",
    "        elif (letter == \"[\" or letter == \"]\"):\n",
    "            parenthesis_list.append(letter)\n",
    "        else:\n",
    "            string_list.append(letter)\n",
    "\n",
    "    print(int_list)\n",
    "    print(parenthesis_list)\n",
    "    print(string_list)\n",
    "\n",
    "    print(int_list)\n",
    "\n",
    "\n",
    "test_string = \"3[a]2[bc]\"\n",
    "test_case = \"[]\"\n",
    "decode_string(test_string)\n"
   ]
  },
  {
   "cell_type": "code",
   "execution_count": 45,
   "metadata": {},
   "outputs": [
    {
     "data": {
      "text/plain": [
       "True"
      ]
     },
     "execution_count": 45,
     "metadata": {},
     "output_type": "execute_result"
    }
   ],
   "source": [
    "def number_checker(letter):\n",
    "    try:\n",
    "        if type(int(letter)) == int:\n",
    "            return True\n",
    "    except:\n",
    "        return False\n",
    "\n",
    "\n",
    "chudi = \"21\"\n",
    "number_checker(chudi)\n"
   ]
  },
  {
   "cell_type": "code",
   "execution_count": 41,
   "metadata": {},
   "outputs": [
    {
     "name": "stdout",
     "output_type": "stream",
     "text": [
      "Index  0  is a string.\n",
      "Index  1  is a string.\n",
      "Index  2  is a string.\n",
      "Index  3  is a string.\n",
      "Index  4  is a string.\n",
      "Index  5  is an integer.\n",
      "Index  6  is an integer.\n",
      "Index  7  is an integer.\n",
      "Index  8  is an integer.\n",
      "Index  9  is a string.\n",
      "Index  10  is a string.\n",
      "Index  11  is a string.\n"
     ]
    }
   ],
   "source": [
    "def number_checker(string):\n",
    "    for index in range(0, len(string)):\n",
    "        try:\n",
    "            if type(int(string[index])) == int:\n",
    "                print(\"Index \", index, \" is an integer.\")\n",
    "        except:\n",
    "            print(\"Index \", index, \" is a string.\")\n",
    "\n",
    "\n",
    "number_checker(\"chudi1234asd\")\n"
   ]
  },
  {
   "cell_type": "code",
   "execution_count": null,
   "metadata": {},
   "outputs": [],
   "source": []
  }
 ],
 "metadata": {
  "kernelspec": {
   "display_name": "Python 3",
   "language": "python",
   "name": "python3"
  },
  "language_info": {
   "codemirror_mode": {
    "name": "ipython",
    "version": 3
   },
   "file_extension": ".py",
   "mimetype": "text/x-python",
   "name": "python",
   "nbconvert_exporter": "python",
   "pygments_lexer": "ipython3",
   "version": "3.11.0"
  },
  "orig_nbformat": 4,
  "vscode": {
   "interpreter": {
    "hash": "aee8b7b246df8f9039afb4144a1f6fd8d2ca17a180786b69acc140d282b71a49"
   }
  }
 },
 "nbformat": 4,
 "nbformat_minor": 2
}
