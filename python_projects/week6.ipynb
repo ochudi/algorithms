{
 "cells": [
  {
   "cell_type": "code",
   "execution_count": 6,
   "metadata": {},
   "outputs": [
    {
     "name": "stdout",
     "output_type": "stream",
     "text": [
      "[4, 5, 10, 20, 40]\n"
     ]
    }
   ],
   "source": [
    "# Merge Sort\n",
    "\n",
    "def merge_sort(my_list):\n",
    "    if (len(my_list) > 1):\n",
    "        middle_index = len(my_list) // 2\n",
    "        left_list = my_list[:middle_index]\n",
    "        right_list = my_list[middle_index:]\n",
    "\n",
    "        merge_sort(left_list)\n",
    "        merge_sort(right_list)\n",
    "\n",
    "        left_index = 0\n",
    "        right_index = 0\n",
    "        current_index = 0\n",
    "\n",
    "        while (left_index < len(left_list) and right_index < len(right_list)):\n",
    "            if (left_list[left_index] < right_list[right_index]):\n",
    "                my_list[current_index] = left_list[left_index]\n",
    "                left_index += 1\n",
    "                current_index += 1\n",
    "            else:\n",
    "                my_list[current_index] = right_list[right_index]\n",
    "                right_index += 1\n",
    "                current_index += 1\n",
    "\n",
    "        while (left_index < len(left_list)):\n",
    "            my_list[current_index] = left_list[left_index]\n",
    "            left_index += 1\n",
    "            current_index += 1\n",
    "\n",
    "        while (right_index < len(right_list)):\n",
    "            my_list[current_index] = right_list[right_index]\n",
    "            right_index += 1\n",
    "            current_index += 1\n",
    "\n",
    "\n",
    "random_list = [20, 4, 5, 40, 10]\n",
    "merge_sort(random_list)\n",
    "print(random_list)\n"
   ]
  },
  {
   "cell_type": "markdown",
   "metadata": {},
   "source": [
    "# Leet Code Question\n",
    "\n",
    "You are given two integer arrays nums1 and nums2, sorted in non-decreasing order, and two integers m and n, representing the number of elements in nums1 and nums2 respectively.\n",
    "\n",
    "Merge nums1 and nums2 into a single array sorted in non-decreasing order.\n",
    "\n",
    "The final sorted array should not be returned by the function, but instead, be stored inside the\n",
    "array nums1. To accommodate this, nums1 has a length of m + n, where the first m elements denote\n",
    "the elements that should be merged, and the last n elements are set to 0 and should be\n",
    "ignored. nums2 has a length of n.\n",
    "\n",
    "## Example 1:\n",
    "\n",
    "Input: nums1 = [1,2,3,0,0,0], m = 3, nums2 = [2,5,6], n = 3\n",
    "\n",
    "Output: [1,2,2,3,5,6]\n",
    "\n",
    "Explanation: The arrays we are merging are [1,2,3] and [2,5,6].\n",
    "\n",
    "The result of the merge is [1,2,2,3,5,6] with the underlined elements coming from nums1.\n",
    "\n",
    "## Example 2:\n",
    "\n",
    "Input: nums1 = [1], m = 1, nums2 = [], n = 0\n",
    "Output: [1]\n",
    "\n",
    "Explanation: The arrays we are merging are [1] and [].\n",
    "\n",
    "The result of the merge is [1].\n",
    "\n",
    "## Example 3:\n",
    "\n",
    "Input: nums1 = [0], m = 0, nums2 = [1], n = 1\n",
    "\n",
    "Output: [1]\n",
    "\n",
    "Explanation: The arrays we are merging are [] and [1].\n",
    "\n",
    "The result of the merge is [1].\n",
    "\n",
    "Note that because m = 0, there are no elements in nums1. The 0 is only there to ensure the merge\n",
    "result can fit in nums1.\n",
    "\n",
    "## Constraints:\n",
    "\n",
    "1. nums1.length == m + n\n",
    "2. nums2.length == n\n",
    "3. 0 <= m, n <= 200\n",
    "4. 1 <= m + n <= 200\n",
    "5. -109 <= nums1[i], nums2[j] <= 109\n"
   ]
  },
  {
   "cell_type": "code",
   "execution_count": 14,
   "metadata": {},
   "outputs": [
    {
     "name": "stdout",
     "output_type": "stream",
     "text": [
      "[1, 2, 2, 3, 5, 6]\n"
     ]
    }
   ],
   "source": [
    "# In-class Exercise\n",
    "\n",
    "nums1 = [1, 2, 3, 0, 0, 0]\n",
    "nums2 = [2, 5, 6]\n",
    "m = 3\n",
    "n = 3\n",
    "\n",
    "\n",
    "def sort_in_list1(list1, list2, length1, length2):\n",
    "    if n > 0:\n",
    "        nums1[-n:] = nums2\n",
    "        nums1.sort()\n",
    "\n",
    "\n",
    "sort_in_list1(nums1, nums2, m, n)\n",
    "print(nums1)\n"
   ]
  },
  {
   "cell_type": "code",
   "execution_count": 15,
   "metadata": {},
   "outputs": [
    {
     "name": "stdout",
     "output_type": "stream",
     "text": [
      "[1]\n"
     ]
    }
   ],
   "source": [
    "# Test 2\n",
    "nums1 = [1]\n",
    "nums2 = []\n",
    "m = 1\n",
    "n = 0\n",
    "\n",
    "sort_in_list1(nums1, nums2, m, n)\n",
    "print(nums1)\n"
   ]
  },
  {
   "cell_type": "code",
   "execution_count": 16,
   "metadata": {},
   "outputs": [
    {
     "name": "stdout",
     "output_type": "stream",
     "text": [
      "[1]\n"
     ]
    }
   ],
   "source": [
    "# Test 3\n",
    "nums1 = [0]\n",
    "nums2 = [1]\n",
    "m = 0\n",
    "n = 1\n",
    "\n",
    "sort_in_list1(nums1, nums2, m, n)\n",
    "print(nums1)\n"
   ]
  },
  {
   "cell_type": "markdown",
   "metadata": {},
   "source": [
    "# Leet Code Question 147\n",
    "\n",
    "## Linked List\n",
    "\n",
    "Rearrange and Sort a Linked List using Insertion sort.\n"
   ]
  },
  {
   "cell_type": "code",
   "execution_count": 4,
   "metadata": {},
   "outputs": [
    {
     "name": "stdout",
     "output_type": "stream",
     "text": [
      "-1000\n"
     ]
    }
   ],
   "source": [
    "# Linked List Sort - take seriously (Kazeem's Code Explanation)\n",
    "\n",
    "class Node:\n",
    "    def __init__(self, value, next=None):\n",
    "        self.value = value\n",
    "        self.next = next\n",
    "\n",
    "\n",
    "Node1 = Node(4)\n",
    "Node2 = Node(6)\n",
    "Node3 = Node(1)\n",
    "Node4 = Node(3)\n",
    "Node5 = Node(10)\n",
    "\n",
    "Node1.next = Node2\n",
    "Node2.next = Node3\n",
    "Node3.next = Node4\n",
    "Node4.next = Node5\n",
    "\n",
    "dummy_node = Node(-1000, Node1)\n",
    "sorted = Node1\n",
    "current = Node1.next\n",
    "\n",
    "while (current):\n",
    "    if (current.value > sorted.value):\n",
    "        current = current.next\n",
    "        sorted = sorted.next\n",
    "\n",
    "    else:\n",
    "        dummy = dummy_node\n",
    "\n",
    "        while (dummy.next.value < current.next.value):\n",
    "            dummy = dummy.next\n",
    "        sorted.next = current.next\n",
    "        current.next = dummy.next\n",
    "        dummy.next = current\n",
    "        current = sorted.next\n",
    "\n",
    "print(dummy_node.value)\n"
   ]
  },
  {
   "cell_type": "code",
   "execution_count": null,
   "metadata": {},
   "outputs": [],
   "source": []
  }
 ],
 "metadata": {
  "kernelspec": {
   "display_name": "Python 3.9.6 64-bit",
   "language": "python",
   "name": "python3"
  },
  "language_info": {
   "codemirror_mode": {
    "name": "ipython",
    "version": 3
   },
   "file_extension": ".py",
   "mimetype": "text/x-python",
   "name": "python",
   "nbconvert_exporter": "python",
   "pygments_lexer": "ipython3",
   "version": "3.9.6"
  },
  "orig_nbformat": 4,
  "vscode": {
   "interpreter": {
    "hash": "31f2aee4e71d21fbe5cf8b01ff0e069b9275f58929596ceb00d14d90e3e16cd6"
   }
  }
 },
 "nbformat": 4,
 "nbformat_minor": 2
}
