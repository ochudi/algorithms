{
 "cells": [
  {
   "cell_type": "markdown",
   "metadata": {},
   "source": [
    "## 1\n",
    "\n",
    "### Valid Parentheses\n",
    "\n",
    "#### Determine if Input string is valid if:\n",
    "\n",
    "#### 1. Open brackets are closed by the same type of brackets.\n",
    "\n",
    "#### 2. Open brackets must be closed in the correct order\n"
   ]
  },
  {
   "cell_type": "code",
   "execution_count": 1,
   "metadata": {},
   "outputs": [
    {
     "name": "stdout",
     "output_type": "stream",
     "text": [
      "False\n"
     ]
    }
   ],
   "source": [
    "def isValid(s):\n",
    "    opened_stack = []\n",
    "    closed_stack = []\n",
    "\n",
    "    for bracket in s:\n",
    "        if bracket == \"(\" or bracket == \"[\" or bracket == \"{\":\n",
    "            opened_stack.append(bracket)\n",
    "        elif bracket == \")\" or bracket == \"]\" or bracket == \"}\":\n",
    "            closed_stack.append(bracket)\n",
    "        if len(opened_stack) == 0:\n",
    "            return False\n",
    "        if len(opened_stack) > 0 and len(closed_stack) == 0:\n",
    "            length = len(s)\n",
    "            if bracket == s[length-1]:\n",
    "                return False\n",
    "        if len(opened_stack) > 0 and len(closed_stack) > 0:\n",
    "            opened_brac = opened_stack.pop()\n",
    "            closed_brac = closed_stack.pop()\n",
    "            if ((opened_brac == \"(\") and ((closed_brac == \"]\") or (closed_brac == \"}\"))):\n",
    "                return False\n",
    "            elif ((opened_brac == \"[\") and ((closed_brac == \")\") or (closed_brac == \"}\"))):\n",
    "                return False\n",
    "            elif ((opened_brac == \"{\") and ((closed_brac == \"]\") or (closed_brac == \")\"))):\n",
    "                return False\n",
    "\n",
    "    if (len(opened_stack) == 0) and (len(closed_stack) == 0):\n",
    "        return True\n",
    "\n",
    "\n",
    "# Implementation\n",
    "test1 = \"{([({(])})])}\"\n",
    "print(isValid(test1))\n"
   ]
  },
  {
   "cell_type": "markdown",
   "metadata": {},
   "source": [
    "## 2\n",
    "\n",
    "### Valid Parentheses\n",
    "\n",
    "#### Determine if Input string is valid if:\n",
    "\n",
    "#### 1. Open brackets are closed by the same type of brackets.\n",
    "\n",
    "#### 2. Open brackets must be closed in the correct order\n"
   ]
  },
  {
   "cell_type": "code",
   "execution_count": 1,
   "metadata": {},
   "outputs": [
    {
     "data": {
      "text/plain": [
       "11"
      ]
     },
     "execution_count": 1,
     "metadata": {},
     "output_type": "execute_result"
    }
   ],
   "source": [
    "# Binary search to return the index of the target item\n",
    "\n",
    "def find_target(arr, num):\n",
    "    start = 0\n",
    "    end = len(arr) - 1\n",
    "\n",
    "    while start <= end:\n",
    "        mid = (start + end) // 2\n",
    "        if num == arr[mid]:\n",
    "            return mid\n",
    "        elif num < arr[mid]:\n",
    "            end = mid - 1\n",
    "        else:\n",
    "            start = mid + 1\n",
    "\n",
    "\n",
    "# Implementation\n",
    "nums = [-1, 0, 3, 4, 5, 9, 12, 45, 65, 69, 90, 100, 102]\n",
    "target = 100\n",
    "find_target(nums, target)\n"
   ]
  },
  {
   "cell_type": "code",
   "execution_count": null,
   "metadata": {},
   "outputs": [],
   "source": []
  }
 ],
 "metadata": {
  "kernelspec": {
   "display_name": "Python 3.9.6 64-bit",
   "language": "python",
   "name": "python3"
  },
  "language_info": {
   "codemirror_mode": {
    "name": "ipython",
    "version": 3
   },
   "file_extension": ".py",
   "mimetype": "text/x-python",
   "name": "python",
   "nbconvert_exporter": "python",
   "pygments_lexer": "ipython3",
   "version": "3.9.6 (default, Sep 26 2022, 11:37:49) \n[Clang 14.0.0 (clang-1400.0.29.202)]"
  },
  "orig_nbformat": 4,
  "vscode": {
   "interpreter": {
    "hash": "31f2aee4e71d21fbe5cf8b01ff0e069b9275f58929596ceb00d14d90e3e16cd6"
   }
  }
 },
 "nbformat": 4,
 "nbformat_minor": 2
}
