{
 "cells": [
  {
   "cell_type": "code",
   "execution_count": 3,
   "metadata": {},
   "outputs": [
    {
     "name": "stdout",
     "output_type": "stream",
     "text": [
      "0\n"
     ]
    }
   ],
   "source": [
    "# Big O(n)\n",
    "from cmath import inf\n",
    "\n",
    "list1 = [3, 6, 1, 2, 5, 0, 4]\n",
    "minimum_number = inf\n",
    "\n",
    "for number in list1:\n",
    "    if number < minimum_number:\n",
    "        minimum_number = number\n",
    "\n",
    "print(minimum_number)\n"
   ]
  },
  {
   "cell_type": "code",
   "execution_count": 7,
   "metadata": {},
   "outputs": [
    {
     "name": "stdout",
     "output_type": "stream",
     "text": [
      "0\n"
     ]
    }
   ],
   "source": [
    "# Big O(n2)\n",
    "\n",
    "list2 = [3, 6, 1, 2, 5, 0, 4]\n",
    "least_number = inf\n",
    "\n",
    "for num1 in list2:\n",
    "    minimum_number = num1\n",
    "    for num2 in list2:\n",
    "        if num2 < minimum_number:\n",
    "            if num2 < least_number:\n",
    "                least_number = num2\n",
    "\n",
    "print(least_number)\n"
   ]
  },
  {
   "cell_type": "code",
   "execution_count": null,
   "metadata": {},
   "outputs": [],
   "source": []
  }
 ],
 "metadata": {
  "kernelspec": {
   "display_name": "Python 3.9.6 64-bit",
   "language": "python",
   "name": "python3"
  },
  "language_info": {
   "codemirror_mode": {
    "name": "ipython",
    "version": 3
   },
   "file_extension": ".py",
   "mimetype": "text/x-python",
   "name": "python",
   "nbconvert_exporter": "python",
   "pygments_lexer": "ipython3",
   "version": "3.9.6"
  },
  "orig_nbformat": 4,
  "vscode": {
   "interpreter": {
    "hash": "31f2aee4e71d21fbe5cf8b01ff0e069b9275f58929596ceb00d14d90e3e16cd6"
   }
  }
 },
 "nbformat": 4,
 "nbformat_minor": 2
}
