{
 "cells": [
  {
   "cell_type": "markdown",
   "metadata": {},
   "source": [
    "# Search\n"
   ]
  },
  {
   "cell_type": "code",
   "execution_count": 1,
   "metadata": {},
   "outputs": [
    {
     "name": "stdout",
     "output_type": "stream",
     "text": [
      "True\n"
     ]
    }
   ],
   "source": [
    "# The Sequential Search - for each\n",
    "\n",
    "my_list = [80, 57, 12, 56, 7, 8, 0]\n",
    "\n",
    "\n",
    "def finder(the_value_to_find):\n",
    "    for element in my_list:\n",
    "        if (element == the_value_to_find):\n",
    "            return True\n",
    "    return False\n",
    "\n",
    "\n",
    "print(finder(8))\n"
   ]
  },
  {
   "cell_type": "code",
   "execution_count": 13,
   "metadata": {},
   "outputs": [
    {
     "data": {
      "text/plain": [
       "False"
      ]
     },
     "execution_count": 13,
     "metadata": {},
     "output_type": "execute_result"
    }
   ],
   "source": [
    "# My code - for range\n",
    "\n",
    "another_list = [80, 57, 12, 56, 7, 8, 0]\n",
    "\n",
    "\n",
    "def my_finder(item_to_be_found):\n",
    "    for index in range(0, len(another_list)):\n",
    "        if another_list[index] == item_to_be_found:\n",
    "            return True\n",
    "    return False\n",
    "\n",
    "\n",
    "my_finder(10)\n"
   ]
  },
  {
   "cell_type": "code",
   "execution_count": 2,
   "metadata": {},
   "outputs": [
    {
     "name": "stdout",
     "output_type": "stream",
     "text": [
      "Nwanne:  True\n",
      "Kazeem:  True\n"
     ]
    }
   ],
   "source": [
    "# Nwanne's code - which don't make sense according to Dr. Kazeem\n",
    "\n",
    "another_list = [80, 57, 12, 56, 7, 8, 0]\n",
    "\n",
    "\n",
    "def nwanne(item_to_be_found):\n",
    "    for index in range(len(another_list)):\n",
    "        if item_to_be_found in another_list:\n",
    "            return True\n",
    "    return False\n",
    "\n",
    "\n",
    "number = 8\n",
    "ans1 = nwanne(number)\n",
    "print(\"Nwanne: \", ans1)\n",
    "\n",
    "\n",
    "def kazeem(item):\n",
    "    if item in another_list:\n",
    "        return True\n",
    "    return False\n",
    "\n",
    "\n",
    "ans2 = kazeem(number)\n",
    "print(\"Kazeem: \", ans2)\n"
   ]
  },
  {
   "cell_type": "code",
   "execution_count": 3,
   "metadata": {},
   "outputs": [
    {
     "name": "stdout",
     "output_type": "stream",
     "text": [
      "False\n"
     ]
    }
   ],
   "source": [
    "# Sequential search of ordered items\n",
    "item_list = [0, 7, 8, 9, 12, 67, 80]\n",
    "\n",
    "\n",
    "def ordered_finder(target_value):\n",
    "    counter = 0\n",
    "    for item in item_list:\n",
    "        if item == target_value:\n",
    "            return True\n",
    "        if item > target_value:\n",
    "            return False\n",
    "        counter = counter + 1\n",
    "    return False\n",
    "\n",
    "\n",
    "print(ordered_finder(-9))\n"
   ]
  },
  {
   "cell_type": "code",
   "execution_count": 8,
   "metadata": {},
   "outputs": [
    {
     "name": "stdout",
     "output_type": "stream",
     "text": [
      "False\n"
     ]
    }
   ],
   "source": [
    "# Binary search the returns a boolean value\n",
    "\n",
    "def binary_search(collection, item):\n",
    "    first = 0\n",
    "    last = len(collection) - 1\n",
    "    found = False\n",
    "    while first <= last and found == False:\n",
    "        midpoint = (first + last) // 2\n",
    "        if collection[midpoint] == item:\n",
    "            found = True\n",
    "        else:\n",
    "            if item < collection[midpoint]:\n",
    "                last = midpoint - 1\n",
    "            else:\n",
    "                first = midpoint + 1\n",
    "    return found\n",
    "\n",
    "\n",
    "test_list = [0, 1, 2, 8, 13, 17, 19, 32, 42]\n",
    "print(binary_search(test_list, 3))\n"
   ]
  },
  {
   "cell_type": "code",
   "execution_count": 1,
   "metadata": {},
   "outputs": [
    {
     "name": "stdout",
     "output_type": "stream",
     "text": [
      "0\n"
     ]
    }
   ],
   "source": [
    "# Brute force algorithm to find minimum number in a list\n",
    "\n",
    "def get_min_value(d):\n",
    "    min_value = 0\n",
    "    for x in d:\n",
    "        for y in d:\n",
    "            if y < x:\n",
    "                min_value = y\n",
    "    return min_value\n",
    "\n",
    "\n",
    "d = [80, 67, 12, 56, 7, 8, 9, 0]\n",
    "print(get_min_value(d))\n"
   ]
  },
  {
   "cell_type": "code",
   "execution_count": 6,
   "metadata": {},
   "outputs": [
    {
     "name": "stdout",
     "output_type": "stream",
     "text": [
      "2\n"
     ]
    }
   ],
   "source": [
    "# Optimized solution\n",
    "\n",
    "\n",
    "def get_min_value_2(d):\n",
    "    min_value = float('inf')\n",
    "    for x in d:\n",
    "        if (min_value > x):\n",
    "            min_value = x\n",
    "    return min_value\n",
    "\n",
    "\n",
    "d = [80, 67, 12, 56, 7, 8, 9, 2]\n",
    "print(get_min_value_2(d))\n"
   ]
  },
  {
   "cell_type": "code",
   "execution_count": 4,
   "metadata": {},
   "outputs": [
    {
     "name": "stdout",
     "output_type": "stream",
     "text": [
      "21\n"
     ]
    }
   ],
   "source": [
    "# My solution\n",
    "\n",
    "from cmath import inf\n",
    "\n",
    "\n",
    "def find_min(item_list):\n",
    "    min = inf\n",
    "    for item in item_list:\n",
    "        if item < min:\n",
    "            min = item\n",
    "    return min\n",
    "\n",
    "\n",
    "item_list = [39, 54, 45, 21, 93, 31, 58]\n",
    "print(find_min(item_list))\n"
   ]
  },
  {
   "cell_type": "code",
   "execution_count": 1,
   "metadata": {},
   "outputs": [
    {
     "data": {
      "text/plain": [
       "11"
      ]
     },
     "execution_count": 1,
     "metadata": {},
     "output_type": "execute_result"
    }
   ],
   "source": [
    "# Binary search to return the index of the target item\n",
    "\n",
    "def find_target(arr, num):\n",
    "    start = 0\n",
    "    end = len(arr) - 1\n",
    "    mid = (start + end) // 2\n",
    "\n",
    "    while True:\n",
    "        if num == arr[mid]:\n",
    "            return mid\n",
    "        elif start == end:\n",
    "            return -1\n",
    "        elif num < arr[mid]:\n",
    "            end = mid - 1\n",
    "            mid = (start + end) // 2\n",
    "        elif num > arr[mid]:\n",
    "            start = mid + 1\n",
    "            mid = (start + end) // 2\n",
    "\n",
    "\n",
    "# Implementation\n",
    "nums = [-1, 0, 3, 4, 5, 9, 12, 45, 65, 69, 90, 100, 102]\n",
    "target = 100\n",
    "find_target(nums, target)\n"
   ]
  },
  {
   "cell_type": "code",
   "execution_count": null,
   "metadata": {},
   "outputs": [],
   "source": []
  }
 ],
 "metadata": {
  "kernelspec": {
   "display_name": "Python 3.9.6 64-bit",
   "language": "python",
   "name": "python3"
  },
  "language_info": {
   "codemirror_mode": {
    "name": "ipython",
    "version": 3
   },
   "file_extension": ".py",
   "mimetype": "text/x-python",
   "name": "python",
   "nbconvert_exporter": "python",
   "pygments_lexer": "ipython3",
   "version": "3.9.6"
  },
  "orig_nbformat": 4,
  "vscode": {
   "interpreter": {
    "hash": "31f2aee4e71d21fbe5cf8b01ff0e069b9275f58929596ceb00d14d90e3e16cd6"
   }
  }
 },
 "nbformat": 4,
 "nbformat_minor": 2
}
