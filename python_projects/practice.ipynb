{
 "cells": [
  {
   "cell_type": "markdown",
   "metadata": {},
   "source": [
    "# Week 1\n"
   ]
  },
  {
   "cell_type": "code",
   "execution_count": 4,
   "metadata": {},
   "outputs": [
    {
     "data": {
      "text/plain": [
       "-43"
      ]
     },
     "execution_count": 4,
     "metadata": {},
     "output_type": "execute_result"
    }
   ],
   "source": [
    "# Big O(n)\n",
    "\n",
    "from cmath import inf\n",
    "\n",
    "\n",
    "def minimum1(any_list):\n",
    "    min_num = inf\n",
    "    for item in any_list:\n",
    "        if item < min_num:\n",
    "            min_num = item\n",
    "    return min_num\n",
    "\n",
    "\n",
    "random_list = [43, 3, 22, 76, 21, -43, 29, 0]\n",
    "minimum1(random_list)\n"
   ]
  },
  {
   "cell_type": "code",
   "execution_count": 9,
   "metadata": {},
   "outputs": [
    {
     "data": {
      "text/plain": [
       "-43"
      ]
     },
     "execution_count": 9,
     "metadata": {},
     "output_type": "execute_result"
    }
   ],
   "source": [
    "# Big O(n2)\n",
    "\n",
    "def minimum2(a_list):\n",
    "    min_num = inf\n",
    "    for item1 in a_list:\n",
    "        for item2 in a_list:\n",
    "            if item2 < item1:\n",
    "                min_num = item2\n",
    "    return min_num\n",
    "\n",
    "\n",
    "random_list = [43, 3, 22, 76, 21, -43, 29, 0]\n",
    "minimum2(random_list)\n"
   ]
  },
  {
   "cell_type": "markdown",
   "metadata": {},
   "source": [
    "# Week 2\n"
   ]
  },
  {
   "cell_type": "code",
   "execution_count": 14,
   "metadata": {},
   "outputs": [
    {
     "data": {
      "text/plain": [
       "\"evilam'I\""
      ]
     },
     "execution_count": 14,
     "metadata": {},
     "output_type": "execute_result"
    }
   ],
   "source": [
    "# reverse string\n",
    "\n",
    "def rev_string(any_string):\n",
    "    stack2 = []\n",
    "    stack1 = list(any_string)\n",
    "    while len(stack1) > 0:\n",
    "        stack2.append(stack1.pop())\n",
    "    reversed = \"\".join(stack2)\n",
    "    return reversed\n",
    "    \n",
    "my_string = \"I'malive\"\n",
    "rev_string(my_string)"
   ]
  },
  {
   "cell_type": "code",
   "execution_count": 19,
   "metadata": {},
   "outputs": [
    {
     "data": {
      "text/plain": [
       "False"
      ]
     },
     "execution_count": 19,
     "metadata": {},
     "output_type": "execute_result"
    }
   ],
   "source": [
    "# Palindrome checker\n",
    "\n",
    "from collections import deque\n",
    "\n",
    "\n",
    "def is_palindrome(random_string):\n",
    "    queue1 = deque(list(random_string))\n",
    "    queue2 = deque(list(random_string))\n",
    "    \n",
    "    while len(queue1) > 0:\n",
    "        left = queue1.pop()\n",
    "        right = queue2.popleft()\n",
    "        if left != right:\n",
    "            return False\n",
    "    return True\n",
    "\n",
    "\n",
    "my_string = \"chudi\"\n",
    "is_palindrome(my_string)"
   ]
  },
  {
   "cell_type": "code",
   "execution_count": 25,
   "metadata": {},
   "outputs": [
    {
     "data": {
      "text/plain": [
       "False"
      ]
     },
     "execution_count": 25,
     "metadata": {},
     "output_type": "execute_result"
    }
   ],
   "source": [
    "# Valid Parentheses\n",
    "\n",
    "def isValid(brackets_string):\n",
    "    opened_brackets = deque()\n",
    "    closed_brackets = deque()\n",
    "    \n",
    "    for bracket in brackets_string:\n",
    "        if bracket == \"(\" or bracket == \"[\" or bracket == \"{\":\n",
    "            opened_brackets.append(bracket)\n",
    "        elif bracket == \")\" or bracket == \"]\" or bracket == \"}\":\n",
    "            closed_brackets.append(bracket)\n",
    "        \n",
    "        if len(opened_brackets) == 0:\n",
    "            return False\n",
    "        \n",
    "        if len(opened_brackets) > 0 and len(closed_brackets) == 0:\n",
    "            string_length = len(brackets_string)\n",
    "            if bracket == brackets_string[-1]:\n",
    "                return False\n",
    "        \n",
    "        if len(opened_brackets) > 0 and len(closed_brackets) > 0:\n",
    "            opened_bracket = opened_brackets.pop()\n",
    "            closed_bracket = closed_brackets.pop()\n",
    "            if (opened_bracket == \"(\") and (closed_bracket == \"}\" or closed_bracket == \"]\"):\n",
    "                return False\n",
    "            elif (opened_bracket == \"{\") and (closed_bracket == \")\" or closed_bracket == \"]\"):\n",
    "                return False\n",
    "            elif (opened_bracket == \"[\") and (closed_bracket == \")\" or closed_bracket == \"}\"):\n",
    "                return False\n",
    "        \n",
    "    if (len(opened_brackets) == 0) and (len(closed_brackets) == 0):\n",
    "            return True\n",
    "\n",
    "parenthesis_string = \"()()[](){[()]})()[]\"\n",
    "isValid(parenthesis_string)"
   ]
  },
  {
   "cell_type": "markdown",
   "metadata": {},
   "source": [
    "# Week 3"
   ]
  },
  {
   "cell_type": "code",
   "execution_count": 27,
   "metadata": {},
   "outputs": [
    {
     "data": {
      "text/plain": [
       "False"
      ]
     },
     "execution_count": 27,
     "metadata": {},
     "output_type": "execute_result"
    }
   ],
   "source": [
    "# Sequential search 1\n",
    "\n",
    "my_list = [23, -2, 21, 45, 98, 56, -26]\n",
    "\n",
    "def isFound1(target):\n",
    "    for item in my_list:\n",
    "        if item == target:\n",
    "            return True\n",
    "    return False\n",
    "\n",
    "isFound1(-21)"
   ]
  },
  {
   "cell_type": "code",
   "execution_count": 29,
   "metadata": {},
   "outputs": [
    {
     "data": {
      "text/plain": [
       "False"
      ]
     },
     "execution_count": 29,
     "metadata": {},
     "output_type": "execute_result"
    }
   ],
   "source": [
    "# Sequential search 1\n",
    "\n",
    "my_list = [23, -2, 21, 45, 98, 56, -26]\n",
    "\n",
    "def isFound2(target):\n",
    "    for index in range(0, len(my_list)):\n",
    "        if my_list[index] == target:\n",
    "            return True\n",
    "    return False\n",
    "\n",
    "isFound2(-21)"
   ]
  },
  {
   "cell_type": "code",
   "execution_count": 34,
   "metadata": {},
   "outputs": [
    {
     "data": {
      "text/plain": [
       "True"
      ]
     },
     "execution_count": 34,
     "metadata": {},
     "output_type": "execute_result"
    }
   ],
   "source": [
    "# Sequential with ordered values\n",
    "\n",
    "ordered_list = [2, 4, 10, 20, 30, 40, 50, 60, 70, 80]\n",
    "\n",
    "def isSeen(target):\n",
    "    if (target < ordered_list[0]) and (target > ordered_list[len(ordered_list) - 1]):\n",
    "        return False\n",
    "    for item in ordered_list:\n",
    "        if target == item:\n",
    "            return True\n",
    "    return False\n",
    "\n",
    "isSeen(10)"
   ]
  },
  {
   "cell_type": "code",
   "execution_count": 42,
   "metadata": {},
   "outputs": [
    {
     "name": "stdout",
     "output_type": "stream",
     "text": [
      "[2, 4, 10, 20, 30, 40, 50, 60, 70, 80]\n"
     ]
    },
    {
     "data": {
      "text/plain": [
       "True"
      ]
     },
     "execution_count": 42,
     "metadata": {},
     "output_type": "execute_result"
    }
   ],
   "source": [
    "# Binary Search - return boolean\n",
    "\n",
    "def isHere(collection, target):\n",
    "    first_index = 0\n",
    "    last_index = len(collection) - 1\n",
    "    isFound = False\n",
    "    \n",
    "    while (first_index <= last_index) and (isFound == False):\n",
    "        middle_index = (first_index + last_index) // 2\n",
    "        if collection[middle_index] == target:\n",
    "            isFound = True\n",
    "        else:\n",
    "            if target < collection[middle_index]:\n",
    "                last_index = middle_index - 1\n",
    "            else:\n",
    "                first_index = middle_index + 1\n",
    "    \n",
    "    return isFound\n",
    "\n",
    "print(ordered_list)\n",
    "isHere(ordered_list, 30)"
   ]
  },
  {
   "cell_type": "code",
   "execution_count": 3,
   "metadata": {},
   "outputs": [
    {
     "data": {
      "text/plain": [
       "11"
      ]
     },
     "execution_count": 3,
     "metadata": {},
     "output_type": "execute_result"
    }
   ],
   "source": [
    "# Binary Search - return index\n",
    "\n",
    "def whatIndex(numbers, target):\n",
    "    first_index = 0\n",
    "    last_index = len(numbers) - 1\n",
    "    index = -1\n",
    "    while (first_index <= last_index) and (index == -1):\n",
    "        middle_index = (first_index + last_index) // 2\n",
    "        if numbers[middle_index] == target:\n",
    "            return middle_index\n",
    "        else:\n",
    "            if target < numbers[middle_index]:\n",
    "                last_index = middle_index - 1\n",
    "            else:\n",
    "                first_index = middle_index + 1\n",
    "    return index\n",
    "\n",
    "numbers = [-1, 0, 3, 4, 5, 9, 12, 45, 65, 69, 90, 100, 102]\n",
    "target = 100\n",
    "whatIndex(numbers, target)"
   ]
  },
  {
   "cell_type": "markdown",
   "metadata": {},
   "source": [
    "# Week 4"
   ]
  },
  {
   "cell_type": "code",
   "execution_count": 5,
   "metadata": {},
   "outputs": [
    {
     "name": "stdout",
     "output_type": "stream",
     "text": [
      "[-2, 17, 20, 26, 31, 44, 54, 55, 77, 93]\n"
     ]
    }
   ],
   "source": [
    "# Bubble sort\n",
    "\n",
    "def bubble_sort(a_list):\n",
    "    for pass_num in range(len(a_list) - 1, 0, -1):\n",
    "        for i in range(pass_num):\n",
    "            if a_list[i] > a_list[i + 1]:\n",
    "                temp = a_list[i]\n",
    "                a_list[i] = a_list[i + 1]\n",
    "                a_list[i + 1] = temp\n",
    "                \n",
    "a_list = [54, 26, 93, 17, 77, 31, 44, 55, -2, 20]\n",
    "bubble_sort(a_list)\n",
    "\n",
    "print(a_list)"
   ]
  },
  {
   "cell_type": "code",
   "execution_count": 14,
   "metadata": {},
   "outputs": [
    {
     "name": "stdout",
     "output_type": "stream",
     "text": [
      "[40, 50, 60, 70, 80, 90, 100, 110, 205, 300]\n"
     ]
    }
   ],
   "source": [
    "def short_bubble_sort(a_list):\n",
    "    pass_num = len(a_list) - 1\n",
    "    exchanges = True\n",
    "    \n",
    "    while pass_num > 0 and exchanges:\n",
    "        exchanges = False\n",
    "        for i in range(pass_num):\n",
    "            if a_list[i] > a_list[i + 1]:\n",
    "                exchanges = True\n",
    "                a_list[i], a_list[i + 1] = a_list[i + 1], a_list[i]\n",
    "        pass_num = pass_num - 1\n",
    "\n",
    "this_list = [205, 300, 40, 90, 50, 60, 70, 80, 100, 110]\n",
    "short_bubble_sort(this_list)\n",
    "\n",
    "print(this_list)"
   ]
  },
  {
   "cell_type": "code",
   "execution_count": 16,
   "metadata": {},
   "outputs": [
    {
     "name": "stdout",
     "output_type": "stream",
     "text": [
      "[17, 20, 26, 31, 44, 54, 55, 77, 91]\n"
     ]
    }
   ],
   "source": [
    "# Selection Sort\n",
    "\n",
    "def selection_sort_a(a_list):\n",
    "    for fill_slot in range(len(a_list) - 1, 0, -1):\n",
    "        pos_of_max = 0\n",
    "        for location in range(1, fill_slot + 1):\n",
    "            if a_list[location] > a_list[pos_of_max]:\n",
    "                pos_of_max = location\n",
    "        a_list[fill_slot], a_list[pos_of_max] = a_list[pos_of_max], a_list[fill_slot]\n",
    "        \n",
    "a_list = [54, 26, 91, 17, 77, 31, 44, 55, 20]\n",
    "selection_sort_a(a_list)\n",
    "print(a_list)"
   ]
  },
  {
   "cell_type": "code",
   "execution_count": 17,
   "metadata": {},
   "outputs": [
    {
     "name": "stdout",
     "output_type": "stream",
     "text": [
      "[1, 2, 3, 4, 5, 6]\n"
     ]
    }
   ],
   "source": [
    "# Insertion sort\n",
    "\n",
    "def insertion_sort(a_list):\n",
    "    for i in range(0, len(a_list)):\n",
    "        j = i\n",
    "        while (a_list[j - 1] > a_list[j]) and j > 0:\n",
    "            a_list[j - 1], a_list[j] = a_list[j], a_list[j - 1]\n",
    "            j -= 1\n",
    "    \n",
    "arr = [2, 6, 5, 1, 3, 4]\n",
    "insertion_sort(arr)\n",
    "print(arr)"
   ]
  },
  {
   "cell_type": "code",
   "execution_count": null,
   "metadata": {},
   "outputs": [],
   "source": []
  }
 ],
 "metadata": {
  "kernelspec": {
   "display_name": "Python 3.9.6 64-bit",
   "language": "python",
   "name": "python3"
  },
  "language_info": {
   "codemirror_mode": {
    "name": "ipython",
    "version": 3
   },
   "file_extension": ".py",
   "mimetype": "text/x-python",
   "name": "python",
   "nbconvert_exporter": "python",
   "pygments_lexer": "ipython3",
   "version": "3.9.6"
  },
  "orig_nbformat": 4,
  "vscode": {
   "interpreter": {
    "hash": "31f2aee4e71d21fbe5cf8b01ff0e069b9275f58929596ceb00d14d90e3e16cd6"
   }
  }
 },
 "nbformat": 4,
 "nbformat_minor": 2
}
