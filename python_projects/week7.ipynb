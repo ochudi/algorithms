{
 "cells": [
  {
   "cell_type": "code",
   "execution_count": 19,
   "metadata": {},
   "outputs": [
    {
     "data": {
      "text/plain": [
       "True"
      ]
     },
     "execution_count": 19,
     "metadata": {},
     "output_type": "execute_result"
    }
   ],
   "source": [
    "# O(2^n)\n",
    "\n",
    "def backtrack(list, index, sum):\n",
    "    list_length = len(list) - 1\n",
    "\n",
    "    if sum == 0:\n",
    "        return True\n",
    "    if index > list_length:\n",
    "        return False\n",
    "    if sum < 0:\n",
    "        return False\n",
    "\n",
    "    left_tree = backtrack(list, index + 1, sum - list[index])\n",
    "    right_tree = backtrack(list, index + 1, sum)\n",
    "\n",
    "    if (left_tree or right_tree):\n",
    "        ''' if left_tree == True:\n",
    "            print(list[index])\n",
    "        else:\n",
    "            if left_tree == True:\n",
    "                print(list[index]) '''\n",
    "        return True\n",
    "    else:\n",
    "        return False\n",
    "\n",
    "\n",
    "random_list = [3, 4, 5, 2]\n",
    "default_index = 0\n",
    "random_sum = 9\n",
    "\n",
    "backtrack(random_list, 0, random_sum)\n"
   ]
  },
  {
   "cell_type": "code",
   "execution_count": 21,
   "metadata": {},
   "outputs": [
    {
     "name": "stdout",
     "output_type": "stream",
     "text": [
      "First number = 4 and Second number = 5\n"
     ]
    },
    {
     "data": {
      "text/plain": [
       "True"
      ]
     },
     "execution_count": 21,
     "metadata": {},
     "output_type": "execute_result"
    }
   ],
   "source": [
    "# O(n)\n",
    "\n",
    "def two_number_sum1(any_list):\n",
    "    list_length = len(any_list)\n",
    "\n",
    "    for index in range(len(any_list)):\n",
    "        if (index + 1) == list_length:\n",
    "            return False\n",
    "        elif ((any_list[index] + any_list[index + 1]) == 9):\n",
    "            print(\"First number = \" +\n",
    "                  str(any_list[index]) + \" and Second number = \" + str(any_list[index + 1]))\n",
    "            return True\n",
    "\n",
    "\n",
    "my_list = [2, 3, 4, 5]\n",
    "two_number_sum1(my_list)\n"
   ]
  },
  {
   "cell_type": "code",
   "execution_count": null,
   "metadata": {},
   "outputs": [],
   "source": [
    "# O(n^2)\n",
    "\n",
    "def two_number_sum2(any_list, first_index, last_index):\n",
    "    \n",
    "    \n",
    "    \n",
    "\n",
    "\n",
    "my_list = [2, 3, 4, 5]\n",
    "two_number_sum2(my_list)"
   ]
  }
 ],
 "metadata": {
  "kernelspec": {
   "display_name": "Python 3.9.6 64-bit",
   "language": "python",
   "name": "python3"
  },
  "language_info": {
   "codemirror_mode": {
    "name": "ipython",
    "version": 3
   },
   "file_extension": ".py",
   "mimetype": "text/x-python",
   "name": "python",
   "nbconvert_exporter": "python",
   "pygments_lexer": "ipython3",
   "version": "3.9.6"
  },
  "orig_nbformat": 4,
  "vscode": {
   "interpreter": {
    "hash": "31f2aee4e71d21fbe5cf8b01ff0e069b9275f58929596ceb00d14d90e3e16cd6"
   }
  }
 },
 "nbformat": 4,
 "nbformat_minor": 2
}
