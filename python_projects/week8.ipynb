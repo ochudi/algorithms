{
 "cells": [
  {
   "cell_type": "code",
   "execution_count": 1,
   "metadata": {},
   "outputs": [],
   "source": [
    "class Solution(object):\n",
    "    def search(self, nums, target):\n",
    "\n",
    "        return self.binary_search(nums, target, 0, len(nums)-1)\n",
    "\n",
    "    def binary_search(self, nums, target, left_index, right_index):\n",
    "        if (left_index > right_index):\n",
    "            return -1\n",
    "\n",
    "        middle_index = left_index + (right_index - (left_index + 1)) // 2\n",
    "        if (nums[middle_index] == target):\n",
    "            return middle_index\n",
    "\n",
    "        if nums[middle_index] >= nums[left_index]:\n",
    "            if (nums[left_index] <= target) and (target < nums[middle_index]):\n",
    "                return self.binary_search(nums, target, left_index, (middle_index - 1))\n",
    "            else:\n",
    "                return self.binary_search(nums, target, (middle_index + 1), right_index)\n",
    "        else:\n",
    "            if (nums[middle_index] < target) and (target <= nums[right_index]):\n",
    "                return self.binary_search(nums, target, (middle_index + 1), right_index)\n",
    "            else:\n",
    "                return self.binary_search(nums, target, left_index, (middle_index - 1))\n"
   ]
  },
  {
   "cell_type": "code",
   "execution_count": 3,
   "metadata": {},
   "outputs": [
    {
     "name": "stdout",
     "output_type": "stream",
     "text": [
      "First c:  -4\n",
      "Second c:  -6\n"
     ]
    }
   ],
   "source": [
    "# Who would've known? PEMDAS?\n",
    "a = 4\n",
    "b = 9\n",
    "\n",
    "c = (a - b + 1)\n",
    "print(\"First c: \", c)\n",
    "c = (a - (b + 1))\n",
    "print(\"Second c: \", c)"
   ]
  },
  {
   "cell_type": "markdown",
   "metadata": {},
   "source": [
    "# 78. Subsets\n",
    "\n",
    "Given an integer array nums of unique elements, return all possible \n",
    "subsets\n",
    " (the power set).\n",
    "\n",
    "The solution set must not contain duplicate subsets. Return the solution in any order.\n",
    "\n",
    " \n",
    "\n",
    "Example 1:\n",
    "\n",
    "Input: nums = [1,2,3]\n",
    "Output: [[],[1],[2],[1,2],[3],[1,3],[2,3],[1,2,3]]\n",
    "Example 2:\n",
    "\n",
    "Input: nums = [0]\n",
    "Output: [[],[0]]\n",
    " \n",
    "\n",
    "Constraints:\n",
    "\n",
    "1 <= nums.length <= 10\n",
    "-10 <= nums[i] <= 10\n",
    "All the numbers of nums are unique."
   ]
  },
  {
   "cell_type": "code",
   "execution_count": 1,
   "metadata": {},
   "outputs": [],
   "source": [
    "# Notice how there are various ways of solving leetcode questions. Using methods and functions.\n",
    "class Solution(object):\n",
    "    def subsets(self, nums):\n",
    "        \"\"\"\n",
    "        :type nums: List[int]\n",
    "        :rtype: List[List[int]]\n",
    "        \"\"\"\n",
    "        def dfs(nums, index, path, res):\n",
    "            if index == len(nums):\n",
    "                res.append(path)\n",
    "                return \n",
    "            dfs(nums, index+1, path+[nums[index]], res)\n",
    "            dfs(nums, index+1, path, res)\n",
    "        res = []\n",
    "        dfs(nums, 0, [], res)\n",
    "        return res"
   ]
  },
  {
   "cell_type": "code",
   "execution_count": null,
   "metadata": {},
   "outputs": [],
   "source": []
  }
 ],
 "metadata": {
  "kernelspec": {
   "display_name": "Python 3.11.0 64-bit",
   "language": "python",
   "name": "python3"
  },
  "language_info": {
   "codemirror_mode": {
    "name": "ipython",
    "version": 3
   },
   "file_extension": ".py",
   "mimetype": "text/x-python",
   "name": "python",
   "nbconvert_exporter": "python",
   "pygments_lexer": "ipython3",
   "version": "3.11.0"
  },
  "orig_nbformat": 4,
  "vscode": {
   "interpreter": {
    "hash": "aee8b7b246df8f9039afb4144a1f6fd8d2ca17a180786b69acc140d282b71a49"
   }
  }
 },
 "nbformat": 4,
 "nbformat_minor": 2
}
