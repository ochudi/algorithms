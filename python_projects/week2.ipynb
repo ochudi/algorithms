{
 "cells": [
  {
   "cell_type": "code",
   "execution_count": 1,
   "metadata": {},
   "outputs": [
    {
     "name": "stdout",
     "output_type": "stream",
     "text": [
      "dog\n",
      "3\n",
      "2\n",
      "[]\n"
     ]
    }
   ],
   "source": [
    "# Stack\n",
    "s = []\n",
    "s.append(3)\n",
    "s.append('dog')\n",
    "print(s[-1])  # this is the top\n",
    "s.append(True)\n",
    "print(len(s))\n",
    "s.append(8.4)\n",
    "s.pop()\n",
    "s.pop()\n",
    "print(len(s))\n",
    "s.pop()\n",
    "s.pop()\n",
    "# s.pop() -- this would flag an error\n",
    "s.insert(0, 2)\n",
    "s.pop(0)\n",
    "print(s)\n"
   ]
  },
  {
   "cell_type": "code",
   "execution_count": 4,
   "metadata": {},
   "outputs": [
    {
     "ename": "IndexError",
     "evalue": "pop from empty list",
     "output_type": "error",
     "traceback": [
      "\u001b[0;31m---------------------------------------------------------------------------\u001b[0m",
      "\u001b[0;31mIndexError\u001b[0m                                Traceback (most recent call last)",
      "Cell \u001b[0;32mIn [4], line 10\u001b[0m\n\u001b[1;32m      8\u001b[0m \u001b[39mwhile\u001b[39;00m \u001b[39mlen\u001b[39m(m) \u001b[39m>\u001b[39m \u001b[39m0\u001b[39m:\n\u001b[1;32m      9\u001b[0m     m\u001b[39m.\u001b[39mpop()\n\u001b[0;32m---> 10\u001b[0m     m\u001b[39m.\u001b[39;49mpop()\n",
      "\u001b[0;31mIndexError\u001b[0m: pop from empty list"
     ]
    }
   ],
   "source": [
    "# gives an IndexError - cannot pop from empty list\n",
    "\n",
    "m = []\n",
    "m.append('x')\n",
    "m.append('y')\n",
    "m.append('z')\n",
    "\n",
    "while len(m) > 0:\n",
    "    m.pop()\n",
    "    m.pop()\n"
   ]
  },
  {
   "cell_type": "code",
   "execution_count": 22,
   "metadata": {},
   "outputs": [
    {
     "name": "stdout",
     "output_type": "stream",
     "text": [
      "racecar"
     ]
    }
   ],
   "source": [
    "# function reverse characters in a string\n",
    "\n",
    "def rev_string(my_str):\n",
    "    my_str = list(my_str)\n",
    "    for character in range(0, len(my_str)):\n",
    "        popped_char = my_str.pop()\n",
    "        print(popped_char, end='')\n",
    "\n",
    "\n",
    "new_string = 'racecar'\n",
    "rev_string(new_string)\n"
   ]
  },
  {
   "cell_type": "code",
   "execution_count": 23,
   "metadata": {},
   "outputs": [
    {
     "name": "stdout",
     "output_type": "stream",
     "text": [
      "madam\n"
     ]
    }
   ],
   "source": [
    "# His solution\n",
    "\n",
    "def reverse(s):\n",
    "    stack2 = []\n",
    "    stack = list(s)\n",
    "    while len(stack) > 0:\n",
    "        stack2.append(stack.pop())\n",
    "    answer = ''.join(stack2)\n",
    "    return answer\n",
    "\n",
    "\n",
    "print(reverse('madam'))\n"
   ]
  },
  {
   "cell_type": "code",
   "execution_count": 24,
   "metadata": {},
   "outputs": [
    {
     "data": {
      "text/plain": [
       "True"
      ]
     },
     "execution_count": 24,
     "metadata": {},
     "output_type": "execute_result"
    }
   ],
   "source": [
    "# Palindrome checker with dequeue\n",
    "from collections import deque\n",
    "\n",
    "\n",
    "def palindrome_checker(my_str):\n",
    "    my_list = list(my_str)\n",
    "    deque1 = deque(my_list)\n",
    "    deque2 = deque(my_list)\n",
    "\n",
    "    while len(deque1) > 0:\n",
    "        left = deque1.popleft()\n",
    "        right = deque2.pop()\n",
    "\n",
    "        if left != right:\n",
    "            return False\n",
    "        return True\n",
    "\n",
    "\n",
    "word_to_check = str(input(\"Input suspected palindrome: \"))\n",
    "palindrome_checker(word_to_check)\n"
   ]
  },
  {
   "cell_type": "code",
   "execution_count": 2,
   "metadata": {},
   "outputs": [
    {
     "name": "stdout",
     "output_type": "stream",
     "text": [
      "False\n"
     ]
    }
   ],
   "source": [
    "# Dr Kazeem's solution\n",
    "from collections import deque\n",
    "\n",
    "\n",
    "def pan_checker(the_string):\n",
    "    q1 = deque(list(the_string))\n",
    "    q2 = deque(list(the_string))\n",
    "\n",
    "    while len(q1) > 0:\n",
    "        l = q1.popleft()\n",
    "        r = q2.pop()\n",
    "        if l != r:\n",
    "            return False\n",
    "    return True\n",
    "\n",
    "\n",
    "print(pan_checker('chikaodi'))\n"
   ]
  },
  {
   "cell_type": "code",
   "execution_count": 16,
   "metadata": {},
   "outputs": [],
   "source": [
    "# Trees\n",
    "\n",
    "class BST:\n",
    "    def __init__(self, node):\n",
    "        self.node = node\n",
    "        self.left = None\n",
    "        self.right = None\n",
    "\n",
    "\n",
    "def add_to_BST(node, value_to_add):\n",
    "    if value_to_add < node:\n",
    "        if node.left:\n",
    "            add_to_BST(node.left, value_to_add)\n",
    "        else:\n",
    "            node.left = node\n",
    "    if value_to_add > node:\n",
    "        if node.right:\n",
    "            add_to_BST(node.right, value_to_add)\n",
    "        else:\n",
    "            node.right = node\n",
    "\n",
    "\n",
    "def inorder(node):\n",
    "    if node.left:\n",
    "        inorder(node.left)\n"
   ]
  },
  {
   "cell_type": "markdown",
   "metadata": {},
   "source": [
    "## Leet Code Example\n",
    "\n",
    "### Valid Parentheses\n",
    "\n",
    "#### Determine if Input string is valid if:\n",
    "\n",
    "#### 1. Open brackets are closed by the same type of brackets.\n",
    "\n",
    "#### 2. Open brackets must be closed in the correct order\n"
   ]
  },
  {
   "cell_type": "code",
   "execution_count": 1,
   "metadata": {},
   "outputs": [
    {
     "name": "stdout",
     "output_type": "stream",
     "text": [
      "False\n"
     ]
    }
   ],
   "source": [
    "def isValid(s):\n",
    "    opened_stack = []\n",
    "    closed_stack = []\n",
    "\n",
    "    for bracket in s:\n",
    "        if bracket == \"(\" or bracket == \"[\" or bracket == \"{\":\n",
    "            opened_stack.append(bracket)\n",
    "        elif bracket == \")\" or bracket == \"]\" or bracket == \"}\":\n",
    "            closed_stack.append(bracket)\n",
    "        if len(opened_stack) == 0:\n",
    "            return False\n",
    "        if len(opened_stack) > 0 and len(closed_stack) == 0:\n",
    "            length = len(s)\n",
    "            if bracket == s[length-1]:\n",
    "                return False\n",
    "        if len(opened_stack) > 0 and len(closed_stack) > 0:\n",
    "            opened_brac = opened_stack.pop()\n",
    "            closed_brac = closed_stack.pop()\n",
    "            if ((opened_brac == \"(\") and ((closed_brac == \"]\") or (closed_brac == \"}\"))):\n",
    "                return False\n",
    "            elif ((opened_brac == \"[\") and ((closed_brac == \")\") or (closed_brac == \"}\"))):\n",
    "                return False\n",
    "            elif ((opened_brac == \"{\") and ((closed_brac == \"]\") or (closed_brac == \")\"))):\n",
    "                return False\n",
    "\n",
    "    if (len(opened_stack) == 0) and (len(closed_stack) == 0):\n",
    "        return True\n",
    "\n",
    "\n",
    "# Implementation\n",
    "test1 = \"{([({(])})])}\"\n",
    "print(isValid(test1))\n"
   ]
  },
  {
   "cell_type": "code",
   "execution_count": null,
   "metadata": {},
   "outputs": [],
   "source": []
  }
 ],
 "metadata": {
  "kernelspec": {
   "display_name": "Python 3.9.6 64-bit",
   "language": "python",
   "name": "python3"
  },
  "language_info": {
   "codemirror_mode": {
    "name": "ipython",
    "version": 3
   },
   "file_extension": ".py",
   "mimetype": "text/x-python",
   "name": "python",
   "nbconvert_exporter": "python",
   "pygments_lexer": "ipython3",
   "version": "3.9.6"
  },
  "orig_nbformat": 4,
  "vscode": {
   "interpreter": {
    "hash": "31f2aee4e71d21fbe5cf8b01ff0e069b9275f58929596ceb00d14d90e3e16cd6"
   }
  }
 },
 "nbformat": 4,
 "nbformat_minor": 2
}
