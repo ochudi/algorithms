{
 "cells": [
  {
   "cell_type": "code",
   "execution_count": 1,
   "metadata": {},
   "outputs": [],
   "source": [
    "# Week 2\n",
    "import math\n",
    " \n",
    "# O(1)\n",
    "def constant_function(n):\n",
    "    return n\n",
    "\n",
    "# O(log n)\n",
    "def log_function(n):\n",
    "    return math.log(n)\n",
    "\n",
    "\n",
    "# O(n)\n",
    "def linear_function(n):\n",
    "    for i in range(n):\n",
    "        print(i)\n",
    "    return \"done with \", n\n",
    "\n",
    "# O(n log n)\n",
    "def log_linear_function(n):\n",
    "    return n * log(n)\n",
    "\n",
    "# O(n^2)\n",
    "def quadratic_function(n):\n",
    "    return n**2\n",
    "\n",
    "# O(n^3)\n",
    "def cubic_function(n):\n",
    "    return n**3\n",
    "\n",
    "# O(2^n)\n",
    "def exponential_function(n):\n",
    "    return 2**n\n",
    "\n",
    "\n",
    "def factorial(n):\n",
    "    if n == 0:\n",
    "        return 1\n",
    "    else:\n",
    "        return n * factorial(n-1)\n"
   ]
  },
  {
   "cell_type": "code",
   "execution_count": null,
   "metadata": {},
   "outputs": [],
   "source": [
    "def reverse_string(string):\n",
    "    # Initialize an empty stack\n",
    "    stack = []\n",
    "    \n",
    "    # Push each character of the string onto the stack\n",
    "    for char in string:\n",
    "        stack.push(char)\n",
    "    \n",
    "    # Initialize an empty reversed string\n",
    "    reversed_string = \"\"\n",
    "    \n",
    "    # Pop each character off the stack and add it to the reversed string\n",
    "    while len(stack) > 0:\n",
    "        reversed_string += stack.pop()\n",
    "    \n",
    "    return reversed_string\n",
    "\n",
    "\n",
    "def check_balanced_brackets(string):\n",
    "    # Initialize an empty stack\n",
    "    stack = []\n",
    "    \n",
    "    # Dictionary of matching brackets\n",
    "    brackets = {\n",
    "        '{': '}',\n",
    "        '[': ']',\n",
    "        '(': ')'\n",
    "    }\n",
    "    \n",
    "    # Iterate through each character in the string\n",
    "    for char in string:\n",
    "        # If the character is an open bracket, push it onto the stack\n",
    "        if char in brackets:\n",
    "            stack.push(char)\n",
    "        # If the character is a closed bracket, check if it matches the top element of the stack\n",
    "        elif len(stack) > 0 and char == brackets[stack[-1]]:\n",
    "            stack.pop()\n",
    "        # If the character is a closed bracket but does not match the top element of the stack, return False\n",
    "        else:\n",
    "            return False\n",
    "    \n",
    "    # Return True if the stack is empty (all brackets were balanced)\n",
    "    return len(stack) == 0\n",
    "\n",
    "\n",
    "# Dr. Kazeem's Code\n",
    "\n",
    "class Solution(object):\n",
    "    def isValid(self, s):\n",
    "        my_list = []\n",
    "        for x in s:\n",
    "            if(x== '(' or x=='{' or x=='['):\n",
    "                my_list.append(x)\n",
    "\n",
    "            if(x== ')' or x=='}' or x==']'):\n",
    "                  if (len(my_list) == 0):\n",
    "                      return False\n",
    "                  if(len(my_list) > 0):\n",
    "                       if(x== ')' and my_list[-1] ==\"(\" ):\n",
    "                               my_list.pop()\n",
    "                       elif(x== '}' and my_list[-1] ==\"{\" ):\n",
    "                               my_list.pop()\n",
    "\n",
    "                       elif(x== ']' and my_list[-1] ==\"[\" ):\n",
    "                               my_list.pop()\n",
    "                       else:\n",
    "                           my_list.append(x)\n",
    "\n",
    "        if(len(my_list)==0):\n",
    "            return True\n",
    "        else:\n",
    "            return False\n"
   ]
  },
  {
   "cell_type": "code",
   "execution_count": 1,
   "metadata": {},
   "outputs": [
    {
     "name": "stdout",
     "output_type": "stream",
     "text": [
      "2\n",
      "5\n",
      "[17, 20, 26, 31, 44, 54, 55, 77, 93]\n"
     ]
    }
   ],
   "source": [
    "def sequential_search(arr, x):\n",
    "    for i in range(len(arr)):\n",
    "        if arr[i] == x:\n",
    "            return i\n",
    "    return -1\n",
    "\n",
    "arr = [1,2,3,4,5,6,7,8]\n",
    "x = 3\n",
    "\n",
    "print(sequential_search(arr, x)) # Output : 2\n",
    "\n",
    "\n",
    "def binary_search(arr, x):\n",
    "    low = 0\n",
    "    high = len(arr) - 1\n",
    "    mid = 0\n",
    " \n",
    "    while low <= high:\n",
    "        mid = (high + low) // 2\n",
    "        if arr[mid] < x:\n",
    "            low = mid + 1\n",
    " \n",
    "        elif arr[mid] > x:\n",
    "            high = mid - 1\n",
    " \n",
    "        else:\n",
    "            return mid\n",
    " \n",
    "    return -1\n",
    "\n",
    "arr = [1,2,3,4,5,6,7,8]\n",
    "x = 6\n",
    "\n",
    "print(binary_search(arr, x)) # Output : 5\n",
    "\n",
    "def find_minimum(numbers):\n",
    "    # initialize minimum to a large value\n",
    "    minimum = float(\"inf\")\n",
    "    # iterate through each number in the list\n",
    "    for number in numbers:\n",
    "        # check if the number is less than the current minimum\n",
    "        if number < minimum:\n",
    "            # if so, set the minimum to the current number\n",
    "            minimum = number\n",
    "    return minimum\n",
    "\n",
    "\n",
    "def search(nums, target):\n",
    "    left = 0\n",
    "    right = len(nums) - 1\n",
    "    while left <= right:\n",
    "        mid = (left + right) // 2\n",
    "        if nums[mid] == target:\n",
    "            return mid\n",
    "        elif nums[mid] < target:\n",
    "            left = mid + 1\n",
    "        else:\n",
    "            right = mid - 1\n",
    "    return -1\n",
    "\n",
    "\n",
    "def bubble_sort(a_list):\n",
    "    for pass_num in range(len(a_list) - 1, 0, -1):\n",
    "        for i in range(pass_num):\n",
    "            if a_list[i] > a_list[i + 1]:\n",
    "                temp = a_list[i]\n",
    "                a_list[i] = a_list[i + 1]\n",
    "                a_list[i + 1] = temp\n",
    "a_list = [54, 26, 93, 17, 77, 31, 44, 55, 20]\n",
    "#bubble_sort(a_list)\n",
    "#print(a_list)\n",
    "\n",
    "def short_bubble_sort(a_list):\n",
    "    exchanges = True\n",
    "    pass_num = len(a_list) - 1\n",
    "    while pass_num > 0 and exchanges:\n",
    "        exchanges = False\n",
    "        for i in range(pass_num):\n",
    "            if a_list[i] > a_list[i + 1]:\n",
    "                exchanges = True\n",
    "                a_list[i], a_list[i + 1] =  a_list[i + 1],  a_list[i]\n",
    "            pass_num = pass_num - 1\n",
    "a_list = [20, 30, 40, 90, 50, 60, 70, 80, 100, 110]\n",
    "\n",
    "#short_bubble_sort(a_list)\n",
    "#print(a_list)\n",
    "\n",
    "def selection_sort(a_list):\n",
    "    for fill_slot in range(len(a_list) - 1, 0, -1):\n",
    "        pos_of_max = 0\n",
    "        for location in range(1, fill_slot + 1):\n",
    "            if a_list[location] > a_list[pos_of_max]:\n",
    "                pos_of_max = location\n",
    "        a_list[fill_slot], a_list[pos_of_max] =  a_list[pos_of_max], a_list[fill_slot]\n",
    "\n",
    "\n",
    "a_list = [54, 26, 93, 17, 77, 31, 44, 55, 20]\n",
    "selection_sort(a_list)\n",
    "print(a_list)"
   ]
  },
  {
   "cell_type": "code",
   "execution_count": 2,
   "metadata": {},
   "outputs": [],
   "source": [
    "def bubble_sort(arr):\n",
    "    n = len(arr)\n",
    "    for i in range(n-1):\n",
    "        for j in range(0, n-i-1):\n",
    "            if arr[j] > arr[j+1]:\n",
    "                arr[j], arr[j+1] = arr[j+1], arr[j]\n",
    "    return arr\n",
    "\n",
    "\n",
    "def short_bubble_sort(arr):\n",
    "    n = len(arr)\n",
    "    for i in range(n-1):\n",
    "        # This flag is used to check if the list is already sorted\n",
    "        flag = 0\n",
    "        for j in range(0, n-i-1):\n",
    "            if arr[j] > arr[j+1]:\n",
    "                arr[j], arr[j+1] = arr[j+1], arr[j]\n",
    "                flag = 1\n",
    "        # If no swapping is needed, then the list is already sorted and we can return\n",
    "        if flag == 0:\n",
    "            return arr\n",
    "    return arr\n",
    "\n",
    "\n",
    "def selection_sort(arr):\n",
    "    n = len(arr)\n",
    "    for i in range(n):\n",
    "        min_index = i\n",
    "        for j in range(i+1, n):\n",
    "            if arr[min_index] > arr[j]:\n",
    "                min_index = j\n",
    "        arr[i], arr[min_index] = arr[min_index], arr[i]\n",
    "    return arr\n",
    "\n",
    "\n",
    "\n",
    "def insertion_sort(arr):\n",
    "    for i in range(1, len(arr)):\n",
    "        key = arr[i]\n",
    "        j = i - 1\n",
    "        while j >= 0 and key < arr[j]:\n",
    "            arr[j + 1] = arr[j]\n",
    "            j -= 1\n",
    "        arr[j + 1] = key\n",
    "    return arr\n",
    "\n",
    "\n",
    "# or \n",
    "def insertion_sort(arr):\n",
    "    # loop through the array starting from the second element\n",
    "    for current_index in range(1, len(arr)):\n",
    "        # select the current element as the key\n",
    "        current_element = arr[current_index]\n",
    "        # set the previous element index\n",
    "        previous_element_index = current_index - 1\n",
    "        # inner loop to compare the current element with the previous element\n",
    "        while previous_element_index >= 0 and current_element < arr[previous_element_index]:\n",
    "            # move the previous element one position ahead\n",
    "            arr[previous_element_index + 1] = arr[previous_element_index]\n",
    "            # decrease the previous element index\n",
    "            previous_element_index -= 1\n",
    "        # insert the current element at the correct position\n",
    "        arr[previous_element_index + 1] = current_element\n",
    "    # return the sorted array\n",
    "    return arr\n",
    "\n"
   ]
  },
  {
   "cell_type": "code",
   "execution_count": 5,
   "metadata": {},
   "outputs": [
    {
     "data": {
      "text/plain": [
       "[54, 93, 77, 44, 20]"
      ]
     },
     "execution_count": 5,
     "metadata": {},
     "output_type": "execute_result"
    }
   ],
   "source": [
    "k = [54, 26, 93, 17, 77, 31, 44, 55, 20]\n",
    "g= [7, 3, 4, 5, 2]\n",
    "\n",
    "def return_k(arr):\n",
    "    result = arr[0::2]\n",
    "    return result\n",
    "\n",
    "return_k(k)"
   ]
  },
  {
   "cell_type": "code",
   "execution_count": 6,
   "metadata": {},
   "outputs": [
    {
     "name": "stdout",
     "output_type": "stream",
     "text": [
      "['jh4', 'i234', '9aa', '7a', '67u']\n"
     ]
    }
   ],
   "source": [
    "g = ['7a', '9aa', 'i234', 'jh4', '67u']\n",
    "for i in range(1, len(g)):\n",
    "    current = g[i]\n",
    "    j = i - 1\n",
    "    while j >= 0 and g[j] < current:\n",
    "        g[j + 1] = g[j]\n",
    "        j -= 1\n",
    "    g[j + 1] = current\n",
    "\n",
    "print(g)\n"
   ]
  },
  {
   "cell_type": "code",
   "execution_count": 8,
   "metadata": {},
   "outputs": [
    {
     "name": "stdout",
     "output_type": "stream",
     "text": [
      "True\n"
     ]
    }
   ],
   "source": [
    "g = ['7a', '9aa', 'i234', 'jh4', '67u']\n",
    "a = g[1] < g[2]\n",
    "print(a)"
   ]
  },
  {
   "cell_type": "code",
   "execution_count": 9,
   "metadata": {},
   "outputs": [
    {
     "name": "stdout",
     "output_type": "stream",
     "text": [
      "['i234', 'jh4', '67u', '7a', '9aa']\n"
     ]
    }
   ],
   "source": [
    "# Question 2\n",
    "\n",
    "g = ['7a', '9aa', 'i234', 'jh4', '67u']\n",
    "dict_1 = {\n",
    "    '7a' : 2,\n",
    "    '9aa' : 1,\n",
    "    'i234' : 5,\n",
    "    'jh4' : 4,\n",
    "    '67u' : 3\n",
    "}\n",
    "sorted_g = sorted(g, key=dict_1.get, reverse=True)\n",
    "print(sorted_g)\n"
   ]
  },
  {
   "cell_type": "code",
   "execution_count": 11,
   "metadata": {},
   "outputs": [
    {
     "name": "stdout",
     "output_type": "stream",
     "text": [
      "[1, 2, 2, 2, 5, 6]\n"
     ]
    }
   ],
   "source": [
    "def merge_arrays(nums1, m, nums2, n):\n",
    "    i = 0\n",
    "    j = 0\n",
    "    k = 0\n",
    "    while i < m and j < n:\n",
    "        if nums1[i] <= nums2[j]:\n",
    "            nums1[k] = nums1[i]\n",
    "            i += 1\n",
    "        else:\n",
    "            nums1[k] = nums2[j]\n",
    "            j += 1\n",
    "        k += 1\n",
    "    while i < m:\n",
    "        nums1[k] = nums1[i]\n",
    "        i += 1\n",
    "        k += 1\n",
    "    while j < n:\n",
    "        nums1[k] = nums2[j]\n",
    "        j += 1\n",
    "        k += 1\n",
    "\n",
    "nums1 = [1, 2, 3, 0, 0, 0]\n",
    "m = 3\n",
    "nums2 = [2, 5, 6]\n",
    "n = 3\n",
    "merge_arrays(nums1, m, nums2, n)\n",
    "print(nums1)\n"
   ]
  },
  {
   "cell_type": "code",
   "execution_count": 12,
   "metadata": {},
   "outputs": [
    {
     "name": "stdout",
     "output_type": "stream",
     "text": [
      "[1, 2, 2, 3, 5, 6]\n"
     ]
    }
   ],
   "source": [
    "\n",
    "def merge(nums1, m, nums2, n):\n",
    "    i = m - 1\n",
    "    j = n - 1\n",
    "    k = m + n - 1\n",
    "    while i >= 0 and j >= 0:\n",
    "        if nums1[i] > nums2[j]:\n",
    "            nums1[k] = nums1[i]\n",
    "            i -= 1\n",
    "        else:\n",
    "            nums1[k] = nums2[j]\n",
    "            j -= 1\n",
    "        k -= 1\n",
    "    while j >= 0:\n",
    "        nums1[k] = nums2[j]\n",
    "        j -= 1\n",
    "        k -= 1\n",
    "\n",
    "nums1 = [1, 2, 3, 0, 0, 0]\n",
    "m = 3\n",
    "nums2 = [2, 5, 6]\n",
    "n = 3\n",
    "merge(nums1, m, nums2, n)\n",
    "print(nums1)\n"
   ]
  },
  {
   "cell_type": "code",
   "execution_count": 13,
   "metadata": {},
   "outputs": [
    {
     "name": "stdout",
     "output_type": "stream",
     "text": [
      "[1, 2, 2, 3, 5, 6]\n"
     ]
    }
   ],
   "source": [
    "def merge(nums1, m, nums2, n):\n",
    "    # i is the pointer for the first array nums1\n",
    "    i = m - 1\n",
    "    # j is the pointer for the second array nums2\n",
    "    j = n - 1\n",
    "    # k is the pointer for the final merge array nums1\n",
    "    k = m + n - 1\n",
    "    \n",
    "    #loop through both the arrays from the end\n",
    "    while i >= 0 and j >= 0:\n",
    "        #compare the elements of both arrays at i and j pointer\n",
    "        if nums1[i] > nums2[j]:\n",
    "            #if nums1 element is greater, add it to the final array\n",
    "            nums1[k] = nums1[i]\n",
    "            i -= 1\n",
    "        else:\n",
    "            #if nums2 element is greater, add it to the final array\n",
    "            nums1[k] = nums2[j]\n",
    "            j -= 1\n",
    "        k -= 1\n",
    "        \n",
    "    # check if there are any remaining elements in nums2 array\n",
    "    while j >= 0:\n",
    "        nums1[k] = nums2[j]\n",
    "        j -= 1\n",
    "        k -= 1\n",
    "\n",
    "nums1 = [1, 2, 3, 0, 0, 0]\n",
    "m = 3\n",
    "nums2 = [2, 5, 6]\n",
    "n = 3\n",
    "#call the merge function\n",
    "merge(nums1, m, nums2, n)\n",
    "print(nums1)\n"
   ]
  },
  {
   "cell_type": "code",
   "execution_count": 15,
   "metadata": {},
   "outputs": [
    {
     "name": "stdout",
     "output_type": "stream",
     "text": [
      "[4, 5, 10, 20, 40]\n"
     ]
    }
   ],
   "source": [
    "def merge_sort(arr):\n",
    "    if len(arr) > 1:\n",
    "        mid = len(arr) // 2\n",
    "        L = arr[:mid]\n",
    "        R = arr[mid:]\n",
    "        merge_sort(L)\n",
    "        merge_sort(R)\n",
    "\n",
    "        i = j = k = 0\n",
    "\n",
    "        while i < len(L) and j < len(R):\n",
    "            if L[i] < R[j]:\n",
    "                arr[k] = L[i]\n",
    "                i += 1\n",
    "            else:\n",
    "                arr[k] = R[j]\n",
    "                j += 1\n",
    "            k += 1\n",
    "\n",
    "        while i < len(L):\n",
    "            arr[k] = L[i]\n",
    "            i += 1\n",
    "            k += 1\n",
    "\n",
    "        while j < len(R):\n",
    "            arr[k] = R[j]\n",
    "            j += 1\n",
    "            k += 1\n",
    "    return arr\n",
    "\n",
    "\n",
    "arr = [20,4,5,40,10]\n",
    "print(merge_sort(arr))\n"
   ]
  },
  {
   "cell_type": "code",
   "execution_count": 16,
   "metadata": {},
   "outputs": [
    {
     "name": "stdout",
     "output_type": "stream",
     "text": [
      "[4, 5, 10, 20, 40]\n"
     ]
    }
   ],
   "source": [
    "def merge_sort(f):\n",
    "    # If the input list has fewer than 2 elements, it is already sorted\n",
    "    if len(f) < 2:\n",
    "        return f\n",
    "\n",
    "    # Split the input list in half\n",
    "    mid = len(f) // 2\n",
    "    left_half = f[:mid]\n",
    "    right_half = f[mid:]\n",
    "\n",
    "    # Recursively sort both halves\n",
    "    left_half = merge_sort(left_half)\n",
    "    right_half = merge_sort(right_half)\n",
    "\n",
    "    # Merge the sorted halves back together\n",
    "    return merge(left_half, right_half)\n",
    "\n",
    "def merge(left, right):\n",
    "    # Initialize an empty result list\n",
    "    result = []\n",
    "\n",
    "    # Keep track of the current index for each input list\n",
    "    left_index = 0\n",
    "    right_index = 0\n",
    "\n",
    "    # Iterate until one of the input lists is exhausted\n",
    "    while left_index < len(left) and right_index < len(right):\n",
    "        # Compare the current element of each list\n",
    "        if left[left_index] <= right[right_index]:\n",
    "            # The element from the left list is smaller, add it to the result\n",
    "            result.append(left[left_index])\n",
    "            left_index += 1\n",
    "        else:\n",
    "            # The element from the right list is smaller, add it to the result\n",
    "            result.append(right[right_index])\n",
    "            right_index += 1\n",
    "\n",
    "    # Add any remaining elements from the left list\n",
    "    result.extend(left[left_index:])\n",
    "\n",
    "    # Add any remaining elements from the right list\n",
    "    result.extend(right[right_index:])\n",
    "\n",
    "    # Return the result\n",
    "    return result\n",
    "\n",
    "# Test case\n",
    "f = [20, 4, 5, 40, 10]\n",
    "print(merge_sort(f))\n"
   ]
  },
  {
   "cell_type": "code",
   "execution_count": 20,
   "metadata": {},
   "outputs": [
    {
     "name": "stdout",
     "output_type": "stream",
     "text": [
      "4\n"
     ]
    }
   ],
   "source": [
    "# Insert Sort - Linked List ---------------------------------------------------------------- Hmmm...\n",
    "\n",
    "class Node:\n",
    "    def __init__(self,val,n=None):\n",
    "        self.val = val\n",
    "        self.next = n\n",
    "\n",
    "\n",
    "node1 = Node (10)\n",
    "node2 = Node (4)\n",
    "node3 = Node (1)\n",
    "node4 = Node (16)\n",
    "\n",
    "node1.next = node2\n",
    "node2.next = node3\n",
    "node3.next = node4\n",
    "\n",
    "dummy = Node(-500,node1)\n",
    "s = node1\n",
    "c = node1.next\n",
    "\n",
    "while(c):\n",
    "\n",
    "    if( s.val <c.val):\n",
    "        c = c.next\n",
    "        s = s.next\n",
    "    else:\n",
    "        t = dummy\n",
    "\n",
    "        while(t.next.val < c.val):\n",
    "            t = t.next\n",
    "\n",
    "        s.next = c.next\n",
    "        c.next = t.next\n",
    "        t.next = c\n",
    "        c = s.next\n",
    "\n",
    "print(dummy.next.val) # this prints the sorted linked list"
   ]
  },
  {
   "cell_type": "code",
   "execution_count": 21,
   "metadata": {},
   "outputs": [
    {
     "name": "stdout",
     "output_type": "stream",
     "text": [
      "None\n",
      "[4, 5, 10, 20, 40]\n"
     ]
    }
   ],
   "source": [
    "# Dr Kazeem's Merge Sort code\n",
    "\n",
    "nums1 = [20,4,5,40,10]\n",
    "def st(nums1):\n",
    "        if(len(nums1) >1):\n",
    "            mid = len(nums1)//2\n",
    "            left = nums1[:mid]\n",
    "            right = nums1[mid:]\n",
    "            st(left)\n",
    "            st(right)\n",
    "\n",
    "            l = 0\n",
    "            r = 0\n",
    "            k = 0\n",
    "\n",
    "            while(l < len(left) and r < len(right)):\n",
    "                if(left[l] < right[r]):\n",
    "                    nums1[k] = left[l]\n",
    "                    k = k +1\n",
    "                    l = l+1\n",
    "                else:\n",
    "                    nums1[k] = right[r]\n",
    "                    k = k + 1\n",
    "                    r = r + 1\n",
    "\n",
    "            while(l < len(left)):\n",
    "                nums1[k] = left[l]\n",
    "                k = k + 1\n",
    "                l = l + 1\n",
    "\n",
    "            while (r < len(right)):\n",
    "                nums1[k] = right[r]\n",
    "                k = k + 1\n",
    "                r = r + 1\n",
    "\n",
    "\n",
    "\n",
    "\n",
    "\n",
    "print(st(nums1))\n",
    "print(nums1)\n"
   ]
  },
  {
   "cell_type": "code",
   "execution_count": 22,
   "metadata": {},
   "outputs": [
    {
     "name": "stdout",
     "output_type": "stream",
     "text": [
      "True\n"
     ]
    }
   ],
   "source": [
    "# Simple Backtracking\n",
    "\n",
    "def subsets_sum(nums, target):\n",
    "    def backtrack(first=0, curr_sum=0):\n",
    "        # if the current sum equals the target sum, we have found a solution\n",
    "        if curr_sum == target:\n",
    "            return True\n",
    "        for i in range(first, len(nums)):\n",
    "            # if adding the current number to the sum exceeds the target, we prune the branch\n",
    "            if curr_sum + nums[i] > target:\n",
    "                continue\n",
    "            if backtrack(i + 1, curr_sum + nums[i]):\n",
    "                return True\n",
    "        return False\n",
    "\n",
    "    return backtrack()\n",
    "\n",
    "# test case \n",
    "k = [3, 4, 5, 2]\n",
    "target = 9\n",
    "print(subsets_sum(k, target)) # True\n"
   ]
  },
  {
   "cell_type": "code",
   "execution_count": 23,
   "metadata": {},
   "outputs": [
    {
     "name": "stdout",
     "output_type": "stream",
     "text": [
      "[4, 5]\n"
     ]
    }
   ],
   "source": [
    "# Complex Code\n",
    "def find_subsets(nums, subset, index, target):\n",
    "    if target == 0:\n",
    "        #we found subset\n",
    "        return True\n",
    "    if index == len(nums):\n",
    "        # we reach end but target not 0\n",
    "        return False\n",
    "    if find_subsets(nums, subset, index + 1, target):\n",
    "        return True\n",
    "    subset.append(nums[index])\n",
    "    if find_subsets(nums, subset, index + 1, target - nums[index]):\n",
    "        return True\n",
    "    subset.pop()\n",
    "    return False\n",
    "\n",
    "def find_subset_with_sum(nums, target):\n",
    "    subset = []\n",
    "    if find_subsets(nums, subset, 0, target):\n",
    "        return subset\n",
    "    return None\n",
    "\n",
    "# test case \n",
    "k = [3, 4, 5, 2]\n",
    "target = 9\n",
    "print(find_subset_with_sum(k, target)) # [2, 3, 4]\n"
   ]
  },
  {
   "cell_type": "code",
   "execution_count": 24,
   "metadata": {},
   "outputs": [
    {
     "name": "stdout",
     "output_type": "stream",
     "text": [
      "[4, 5]\n"
     ]
    }
   ],
   "source": [
    "# Test Case\n",
    "k = [3, 4, 5, 2]\n",
    "target = 9\n",
    "print(find_subset_with_sum(k, target)) # [2, 3, 4]\n"
   ]
  },
  {
   "cell_type": "code",
   "execution_count": 25,
   "metadata": {},
   "outputs": [
    {
     "name": "stdout",
     "output_type": "stream",
     "text": [
      "True\n"
     ]
    }
   ],
   "source": [
    "# In class Codes - Backtracking\n",
    "def dfs(arr,index,sum):\n",
    "    f = len(arr)-1\n",
    "    if(sum==0):\n",
    "        ff = True\n",
    "        return  True\n",
    "    if(sum < 0 ):\n",
    "        return False\n",
    "\n",
    "    if(index > f):\n",
    "        return False\n",
    "\n",
    "\n",
    "    left = dfs(arr, index+1,sum-arr[index])\n",
    "    right = dfs(arr, index + 1, sum)\n",
    "\n",
    "\n",
    "    return left or right\n",
    "\n",
    "k= [3,4,5,2]\n",
    "sum = 9\n",
    "ans = dfs(k,0,sum)\n",
    "print(ans)\n",
    "\n"
   ]
  },
  {
   "cell_type": "code",
   "execution_count": 36,
   "metadata": {},
   "outputs": [
    {
     "name": "stdout",
     "output_type": "stream",
     "text": [
      " subsets that sum up to target:  [[2, 3, 5]]\n"
     ]
    }
   ],
   "source": [
    "def subsett(nums,s):\n",
    "    # Initialize an empty list to store the subsets\n",
    "    result = []\n",
    "    # Initialize an empty list to store the current subset\n",
    "    subset = []\n",
    "    def dfs(i,curr):\n",
    "        # Base case: if we have reached the end of the list, return\n",
    "        if i >= len(nums):\n",
    "            if curr == s:\n",
    "                result.append(subset.copy())\n",
    "            return\n",
    "        #recursing without the current number\n",
    "        dfs(i+1,curr)\n",
    "        #recursing with the current number\n",
    "        subset.append(nums[i])\n",
    "        dfs(i+1,curr+nums[i])\n",
    "        subset.pop()\n",
    "\n",
    "    dfs(0,0)\n",
    "    if result:\n",
    "        return result\n",
    "    else:\n",
    "        return False\n",
    "\n",
    "nums = [1,2,3,5]\n",
    "s = 10\n",
    "subsets = subsett(nums,s)\n",
    "if subsets:\n",
    "    print(\" subsets that sum up to target: \",subsets)\n",
    "else:\n",
    "    print(\"no subsets that sum up to target\")\n"
   ]
  },
  {
   "cell_type": "code",
   "execution_count": 39,
   "metadata": {},
   "outputs": [
    {
     "name": "stdout",
     "output_type": "stream",
     "text": [
      "leetcodeleetcodeleetcodeleetcodeleetcodeleetcodeleetcodeleetcodeleetcodeleetcodeleetcodeleetcodeleetcodeleetcodeleetcodeleetcodeleetcodeleetcodeleetcodeleetcodeleetcodeleetcodeleetcodeleetcodeleetcodeleetcodeleetcodeleetcodeleetcodeleetcodeleetcodeleetcodeleetcodeleetcodeleetcodeleetcodeleetcodeleetcodeleetcodeleetcodeleetcodeleetcodeleetcodeleetcodeleetcodeleetcodeleetcodeleetcodeleetcodeleetcodeleetcodeleetcodeleetcodeleetcodeleetcodeleetcodeleetcodeleetcodeleetcodeleetcodeleetcodeleetcodeleetcodeleetcodeleetcodeleetcodeleetcodeleetcodeleetcodeleetcodeleetcodeleetcodeleetcodeleetcodeleetcodeleetcodeleetcodeleetcodeleetcodeleetcodeleetcodeleetcodeleetcodeleetcodeleetcodeleetcodeleetcodeleetcodeleetcodeleetcodeleetcodeleetcodeleetcodeleetcodeleetcodeleetcodeleetcodeleetcodeleetcodeleetcode\n"
     ]
    }
   ],
   "source": [
    "def decodeString(s) :\n",
    "    \n",
    "    stack = []\n",
    "\n",
    "    for x in s:\n",
    "\n",
    "        if(x !=']'):\n",
    "            stack.append(x)\n",
    "\n",
    "        else:\n",
    "            st = \"\"\n",
    "            while(stack[-1] != '['):\n",
    "                st =stack.pop() + st\n",
    "            stack.pop()\n",
    "            dig = \"\"\n",
    "            while(stack and stack[-1].isdigit()):\n",
    "                dig = stack.pop() +dig\n",
    "\n",
    "            stack.append(int(dig)*st)\n",
    "\n",
    "    return \"\".join(stack)\n",
    "\n",
    "\n",
    "\n",
    "\n",
    "\n",
    "s = \"100[leetcode]\"\n",
    "d=decodeString(s)\n",
    "print(d)"
   ]
  },
  {
   "cell_type": "code",
   "execution_count": 42,
   "metadata": {},
   "outputs": [
    {
     "data": {
      "text/plain": [
       "'abcabcbschudichudichudi'"
      ]
     },
     "execution_count": 42,
     "metadata": {},
     "output_type": "execute_result"
    }
   ],
   "source": [
    "def decodeString(s: str) -> str:\n",
    "    def dfs(s, i):\n",
    "        n = len(s)\n",
    "        res = \"\"\n",
    "        num = 0\n",
    "        while i < n:\n",
    "            if '0' <= s[i] <= '9':\n",
    "                num = num * 10 + int(s[i])\n",
    "            elif s[i] == '[':\n",
    "                i, temp = dfs(s, i + 1)\n",
    "                res += num * temp\n",
    "                num = 0\n",
    "            elif s[i] == ']':\n",
    "                return i, res\n",
    "            else:\n",
    "                res += s[i]\n",
    "            i += 1\n",
    "        return res\n",
    "    return dfs(s, 0)\n",
    "\n",
    "\n",
    "decodeString(\"2[abc]bs3[chudi]\")"
   ]
  },
  {
   "cell_type": "code",
   "execution_count": 45,
   "metadata": {},
   "outputs": [
    {
     "name": "stdout",
     "output_type": "stream",
     "text": [
      "[[3, 4, 2], [4, 5]]\n"
     ]
    }
   ],
   "source": [
    "# Problem 1\n",
    "\n",
    "def sub_sum(k, s, idx, subset):\n",
    "    if s == 0:\n",
    "        return [subset]\n",
    "    if idx == len(k):\n",
    "        return []\n",
    "    if k[idx] > s:\n",
    "        return sub_sum(k, s, idx+1, subset)\n",
    "    with_item = sub_sum(k, s - k[idx], idx + 1, subset + [k[idx]])\n",
    "    without_item = sub_sum(k, s, idx + 1, subset)\n",
    "    return with_item + without_item\n",
    "\n",
    "k = [3, 4, 5, 2]\n",
    "s = 9\n",
    "subsets = sub_sum(k, s, 0, [])\n",
    "print(subsets)\n"
   ]
  },
  {
   "cell_type": "code",
   "execution_count": 44,
   "metadata": {},
   "outputs": [
    {
     "name": "stdout",
     "output_type": "stream",
     "text": [
      "first subset that sum up to target:  [[2, 3, 4]]\n"
     ]
    }
   ],
   "source": [
    "# Problem 2\n",
    "\n",
    "def sub_sum_first(k, s, idx, subset):\n",
    "    if s == 0:\n",
    "        return [subset]\n",
    "    if idx == len(k):\n",
    "        return []\n",
    "    for i in [idx, idx+1]:\n",
    "        if k[i] <= s:\n",
    "            res = sub_sum_first(k, s - k[i], i+1, subset + [k[i]])\n",
    "            if res:\n",
    "                return res\n",
    "    return []\n",
    "\n",
    "k = [2,3,4,5,6,7]\n",
    "s = 9\n",
    "subset = sub_sum_first(k, s, 0, [])\n",
    "if subset:\n",
    "    print(\"first subset that sum up to target: \",subset)\n",
    "else:\n",
    "    print(\"no subset that sum up to target\")\n"
   ]
  },
  {
   "cell_type": "code",
   "execution_count": 46,
   "metadata": {},
   "outputs": [
    {
     "name": "stdout",
     "output_type": "stream",
     "text": [
      "[5, 4, 1, 6, 7]\n"
     ]
    }
   ],
   "source": [
    "# Dr. Kazeem's code \n",
    "class BST:\n",
    "    def __init__(self,value):\n",
    "        self.value = value\n",
    "        self.left = None\n",
    "        self.right = None\n",
    "\n",
    "def populate_bst(node,value):\n",
    "    if(node.value ==value):\n",
    "        return\n",
    "    if(node.value > value):\n",
    "        if(node.left):\n",
    "            populate_bst(node.left, value)\n",
    "        else:\n",
    "            node.left = BST(value)\n",
    "    if (node.value < value):\n",
    "        if (node.right):\n",
    "            populate_bst(node.right, value)\n",
    "        else:\n",
    "            node.right = BST(value)\n",
    "\n",
    "l = [5,4,6,7,1,4]\n",
    "\n",
    "node = BST(5)\n",
    "\n",
    "for e in l[1:6]:\n",
    "    populate_bst(node,e)\n",
    "\n",
    "#print(node)\n",
    "# spit out tree values in a pre_order fashion\n",
    "def pre_order(node):\n",
    "\n",
    "    if(node ==None):\n",
    "        return []\n",
    "\n",
    "    return [node.value] + pre_order(node.left) +  pre_order(node.right)\n",
    "\n",
    "print(pre_order(node))"
   ]
  },
  {
   "cell_type": "code",
   "execution_count": 47,
   "metadata": {},
   "outputs": [
    {
     "name": "stdout",
     "output_type": "stream",
     "text": [
      "Inorder traversal of the BST is:\n",
      "4\n",
      "2\n",
      "5\n",
      "1\n",
      "3\n"
     ]
    }
   ],
   "source": [
    "# BST code\n",
    "\n",
    "class Node:\n",
    "    def __init__(self, key):\n",
    "        self.left = None\n",
    "        self.right = None\n",
    "        self.val = key\n",
    "\n",
    "def inOrder(root):\n",
    "    if root:\n",
    "        inOrder(root.left)\n",
    "        print(root.val)\n",
    "        inOrder(root.right)\n",
    "\n",
    "root = Node(1)\n",
    "root.left = Node(2)\n",
    "root.right = Node(3)\n",
    "root.left.left = Node(4)\n",
    "root.left.right = Node(5)\n",
    "\n",
    "print(\"Inorder traversal of the BST is:\")\n",
    "inOrder(root)\n"
   ]
  },
  {
   "cell_type": "code",
   "execution_count": 48,
   "metadata": {},
   "outputs": [],
   "source": [
    "# Depth of a tree\n",
    "\n",
    "def max_depth(root):\n",
    "    if not root:\n",
    "        return 0\n",
    "    else:\n",
    "        left_height = max_depth(root.left)\n",
    "        right_height = max_depth(root.right)\n",
    "        return max(left_height, right_height) + 1\n"
   ]
  },
  {
   "cell_type": "code",
   "execution_count": 50,
   "metadata": {},
   "outputs": [
    {
     "data": {
      "text/plain": [
       "3"
      ]
     },
     "execution_count": 50,
     "metadata": {},
     "output_type": "execute_result"
    }
   ],
   "source": [
    "# Test Code\n",
    "max_depth(root)"
   ]
  },
  {
   "cell_type": "code",
   "execution_count": 54,
   "metadata": {},
   "outputs": [
    {
     "ename": "TypeError",
     "evalue": "can only concatenate list (not \"int\") to list",
     "output_type": "error",
     "traceback": [
      "\u001b[0;31m---------------------------------------------------------------------------\u001b[0m",
      "\u001b[0;31mTypeError\u001b[0m                                 Traceback (most recent call last)",
      "Cell \u001b[0;32mIn[54], line 5\u001b[0m\n\u001b[1;32m      3\u001b[0m         \u001b[39mreturn\u001b[39;00m \u001b[39m0\u001b[39m\n\u001b[1;32m      4\u001b[0m     \u001b[39mreturn\u001b[39;00m [node\u001b[39m.\u001b[39mval] \u001b[39m+\u001b[39m  x(node\u001b[39m.\u001b[39mleft) \u001b[39m+\u001b[39m  x(node\u001b[39m.\u001b[39mright)\n\u001b[0;32m----> 5\u001b[0m \u001b[39mprint\u001b[39m(x(root))\n",
      "Cell \u001b[0;32mIn[54], line 4\u001b[0m, in \u001b[0;36mx\u001b[0;34m(node)\u001b[0m\n\u001b[1;32m      2\u001b[0m \u001b[39mif\u001b[39;00m(node \u001b[39m==\u001b[39m\u001b[39mNone\u001b[39;00m):\n\u001b[1;32m      3\u001b[0m     \u001b[39mreturn\u001b[39;00m \u001b[39m0\u001b[39m\n\u001b[0;32m----> 4\u001b[0m \u001b[39mreturn\u001b[39;00m [node\u001b[39m.\u001b[39mval] \u001b[39m+\u001b[39m  x(node\u001b[39m.\u001b[39;49mleft) \u001b[39m+\u001b[39m  x(node\u001b[39m.\u001b[39mright)\n",
      "Cell \u001b[0;32mIn[54], line 4\u001b[0m, in \u001b[0;36mx\u001b[0;34m(node)\u001b[0m\n\u001b[1;32m      2\u001b[0m \u001b[39mif\u001b[39;00m(node \u001b[39m==\u001b[39m\u001b[39mNone\u001b[39;00m):\n\u001b[1;32m      3\u001b[0m     \u001b[39mreturn\u001b[39;00m \u001b[39m0\u001b[39m\n\u001b[0;32m----> 4\u001b[0m \u001b[39mreturn\u001b[39;00m [node\u001b[39m.\u001b[39mval] \u001b[39m+\u001b[39m  x(node\u001b[39m.\u001b[39;49mleft) \u001b[39m+\u001b[39m  x(node\u001b[39m.\u001b[39mright)\n",
      "Cell \u001b[0;32mIn[54], line 4\u001b[0m, in \u001b[0;36mx\u001b[0;34m(node)\u001b[0m\n\u001b[1;32m      2\u001b[0m \u001b[39mif\u001b[39;00m(node \u001b[39m==\u001b[39m\u001b[39mNone\u001b[39;00m):\n\u001b[1;32m      3\u001b[0m     \u001b[39mreturn\u001b[39;00m \u001b[39m0\u001b[39m\n\u001b[0;32m----> 4\u001b[0m \u001b[39mreturn\u001b[39;00m [node\u001b[39m.\u001b[39;49mval] \u001b[39m+\u001b[39;49m  x(node\u001b[39m.\u001b[39;49mleft) \u001b[39m+\u001b[39m  x(node\u001b[39m.\u001b[39mright)\n",
      "\u001b[0;31mTypeError\u001b[0m: can only concatenate list (not \"int\") to list"
     ]
    }
   ],
   "source": [
    "def x(node):\n",
    "    if(node ==None):\n",
    "        return 0\n",
    "    return [node.val] +  x(node.left) +  x(node.right)\n",
    "print(x(root))"
   ]
  },
  {
   "cell_type": "code",
   "execution_count": null,
   "metadata": {},
   "outputs": [],
   "source": []
  }
 ],
 "metadata": {
  "kernelspec": {
   "display_name": "Python 3",
   "language": "python",
   "name": "python3"
  },
  "language_info": {
   "codemirror_mode": {
    "name": "ipython",
    "version": 3
   },
   "file_extension": ".py",
   "mimetype": "text/x-python",
   "name": "python",
   "nbconvert_exporter": "python",
   "pygments_lexer": "ipython3",
   "version": "3.11.1"
  },
  "orig_nbformat": 4,
  "vscode": {
   "interpreter": {
    "hash": "aee8b7b246df8f9039afb4144a1f6fd8d2ca17a180786b69acc140d282b71a49"
   }
  }
 },
 "nbformat": 4,
 "nbformat_minor": 2
}
