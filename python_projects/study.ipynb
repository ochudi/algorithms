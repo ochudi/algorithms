{
 "cells": [
  {
   "cell_type": "code",
   "execution_count": 1,
   "metadata": {},
   "outputs": [],
   "source": [
    "import math\n",
    " \n",
    "# O(1)\n",
    "def constant_function(n):\n",
    "    return n\n",
    "\n",
    "# O(log n)\n",
    "def log_function(n):\n",
    "    return math.log(n)\n",
    "\n",
    "\n",
    "# O(n)\n",
    "def linear_function(n):\n",
    "    for i in range(n):\n",
    "        print(i)\n",
    "    return \"done with \", n\n",
    "\n",
    "# O(n log n)\n",
    "def log_linear_function(n):\n",
    "    return n * log(n)\n",
    "\n",
    "# O(n^2)\n",
    "def quadratic_function(n):\n",
    "    return n**2\n",
    "\n",
    "# O(n^3)\n",
    "def cubic_function(n):\n",
    "    return n**3\n",
    "\n",
    "# O(2^n)\n",
    "def exponential_function(n):\n",
    "    return 2**n\n",
    "\n",
    "\n",
    "def factorial(n):\n",
    "    if n == 0:\n",
    "        return 1\n",
    "    else:\n",
    "        return n * factorial(n-1)\n"
   ]
  },
  {
   "cell_type": "code",
   "execution_count": null,
   "metadata": {},
   "outputs": [],
   "source": []
  }
 ],
 "metadata": {
  "kernelspec": {
   "display_name": "Python 3",
   "language": "python",
   "name": "python3"
  },
  "language_info": {
   "codemirror_mode": {
    "name": "ipython",
    "version": 3
   },
   "file_extension": ".py",
   "mimetype": "text/x-python",
   "name": "python",
   "nbconvert_exporter": "python",
   "pygments_lexer": "ipython3",
   "version": "3.11.1"
  },
  "orig_nbformat": 4,
  "vscode": {
   "interpreter": {
    "hash": "aee8b7b246df8f9039afb4144a1f6fd8d2ca17a180786b69acc140d282b71a49"
   }
  }
 },
 "nbformat": 4,
 "nbformat_minor": 2
}
