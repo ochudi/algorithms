{
 "cells": [
  {
   "cell_type": "code",
   "execution_count": 4,
   "metadata": {},
   "outputs": [
    {
     "name": "stdout",
     "output_type": "stream",
     "text": [
      "5\n"
     ]
    }
   ],
   "source": [
    "class Node:\n",
    "    def __init__(self, value):\n",
    "        self.left = None\n",
    "        self.right = None\n",
    "        self.value = value\n",
    "\n",
    "def insert_node(root, node):\n",
    "    if root is None:\n",
    "        root = node\n",
    "    else:\n",
    "        if root.value > node.value:\n",
    "            if root.left is None:\n",
    "                root.left = node\n",
    "            else:\n",
    "                insert_node(root.left, node)\n",
    "        else:\n",
    "            if root.right is None:\n",
    "                root.right = node\n",
    "            else:\n",
    "                insert_node(root.right, node)\n",
    "\n",
    "def build_tree(values):\n",
    "    root = Node(values[0])\n",
    "    for i in range(1, len(values)):\n",
    "        insert_node(root, Node(values[i]))\n",
    "    return root\n",
    "\n",
    "tree = build_tree([5, 4, 6, 7, 1, 4])\n",
    "\n",
    "print(tree.left.left.value)"
   ]
  },
  {
   "cell_type": "code",
   "execution_count": 7,
   "metadata": {},
   "outputs": [
    {
     "name": "stdout",
     "output_type": "stream",
     "text": [
      "1\n"
     ]
    }
   ],
   "source": [
    "# Dr. Kazeem's code\n",
    "\n",
    "class BST:\n",
    "    def __init__(self, value):\n",
    "        self.value = value\n",
    "        self.left = None\n",
    "        self.right = None\n",
    "        \n",
    "def populate_bst(node, value):\n",
    "    if node.value == value:\n",
    "        return\n",
    "    \n",
    "    if node.value > value:\n",
    "        if node.left:\n",
    "            populate_bst(node.left, value)\n",
    "        else:\n",
    "            node.left = BST(value)\n",
    "    \n",
    "    if node.value < value:\n",
    "        if node.right:\n",
    "            populate_bst(node.right, value)\n",
    "        else:\n",
    "            node.right = BST(value)\n",
    "\n",
    "\n",
    "l = [5,4,6,7,1,4]\n",
    "node = BST(5)  \n",
    "          \n",
    "for e in l[1:]:\n",
    "    populate_bst(node, e)\n",
    "    \n",
    "print(node.left.left.value)"
   ]
  },
  {
   "cell_type": "code",
   "execution_count": null,
   "metadata": {},
   "outputs": [],
   "source": []
  }
 ],
 "metadata": {
  "kernelspec": {
   "display_name": "Python 3",
   "language": "python",
   "name": "python3"
  },
  "language_info": {
   "codemirror_mode": {
    "name": "ipython",
    "version": 3
   },
   "file_extension": ".py",
   "mimetype": "text/x-python",
   "name": "python",
   "nbconvert_exporter": "python",
   "pygments_lexer": "ipython3",
   "version": "3.11.0"
  },
  "orig_nbformat": 4,
  "vscode": {
   "interpreter": {
    "hash": "aee8b7b246df8f9039afb4144a1f6fd8d2ca17a180786b69acc140d282b71a49"
   }
  }
 },
 "nbformat": 4,
 "nbformat_minor": 2
}
